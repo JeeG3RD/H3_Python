{
 "metadata": {
  "language_info": {
   "codemirror_mode": {
    "name": "ipython",
    "version": 3
   },
   "file_extension": ".py",
   "mimetype": "text/x-python",
   "name": "python",
   "nbconvert_exporter": "python",
   "pygments_lexer": "ipython3",
   "version": "3.8.2-final"
  },
  "orig_nbformat": 2,
  "kernelspec": {
   "name": "python38264bit0ec9b011c07d4a51a9745b11ed22156f",
   "display_name": "Python 3.8.2 64-bit"
  }
 },
 "nbformat": 4,
 "nbformat_minor": 2,
 "cells": [
  {
   "source": [
    "#Importer Pandas"
   ],
   "cell_type": "markdown",
   "metadata": {}
  },
  {
   "cell_type": "code",
   "execution_count": 2,
   "metadata": {},
   "outputs": [],
   "source": [
    "import pandas as pd"
   ]
  },
  {
   "source": [
    "#Import des dataset"
   ],
   "cell_type": "markdown",
   "metadata": {}
  },
  {
   "cell_type": "code",
   "execution_count": 3,
   "metadata": {},
   "outputs": [],
   "source": [
    "df1 = pd.read_csv(\"csv_files/user_device.csv\")\n",
    "df2 = pd.read_csv(\"csv_files/user_usage.csv\")\n",
    "df3 = pd.read_csv(\"csv_files/android_devices.csv\")"
   ]
  },
  {
   "source": [
    "#Renommer Retail Branding"
   ],
   "cell_type": "markdown",
   "metadata": {}
  },
  {
   "cell_type": "code",
   "execution_count": 24,
   "metadata": {},
   "outputs": [],
   "source": [
    "df3 = df3.rename(columns={'Retail Branding': 'Manufacturer'})"
   ]
  },
  {
   "source": [
    "#Afficher les dataset"
   ],
   "cell_type": "markdown",
   "metadata": {}
  },
  {
   "cell_type": "code",
   "execution_count": 4,
   "metadata": {},
   "outputs": [
    {
     "output_type": "execute_result",
     "data": {
      "text/plain": "     use_id  user_id platform  platform_version                  device  \\\n0     22782    26980      ios              10.2               iPhone7,2   \n1     22783    29628  android               6.0                 Nexus 5   \n2     22784    28473  android               5.1                SM-G903F   \n3     22785    15200      ios              10.2               iPhone7,2   \n4     22786    28239  android               6.0               ONE E1003   \n..      ...      ...      ...               ...                     ...   \n267   23049    29725  android               6.0                SM-G900F   \n268   23050    29726      ios              10.2               iPhone7,2   \n269   23051    29726      ios              10.2               iPhone7,2   \n270   23052    29727      ios              10.1               iPhone8,4   \n271   23053    20257  android               5.1  Vodafone Smart ultra 6   \n\n     use_type_id  \n0              2  \n1              3  \n2              1  \n3              3  \n4              1  \n..           ...  \n267            1  \n268            3  \n269            3  \n270            3  \n271            1  \n\n[272 rows x 6 columns]",
      "text/html": "<div>\n<style scoped>\n    .dataframe tbody tr th:only-of-type {\n        vertical-align: middle;\n    }\n\n    .dataframe tbody tr th {\n        vertical-align: top;\n    }\n\n    .dataframe thead th {\n        text-align: right;\n    }\n</style>\n<table border=\"1\" class=\"dataframe\">\n  <thead>\n    <tr style=\"text-align: right;\">\n      <th></th>\n      <th>use_id</th>\n      <th>user_id</th>\n      <th>platform</th>\n      <th>platform_version</th>\n      <th>device</th>\n      <th>use_type_id</th>\n    </tr>\n  </thead>\n  <tbody>\n    <tr>\n      <th>0</th>\n      <td>22782</td>\n      <td>26980</td>\n      <td>ios</td>\n      <td>10.2</td>\n      <td>iPhone7,2</td>\n      <td>2</td>\n    </tr>\n    <tr>\n      <th>1</th>\n      <td>22783</td>\n      <td>29628</td>\n      <td>android</td>\n      <td>6.0</td>\n      <td>Nexus 5</td>\n      <td>3</td>\n    </tr>\n    <tr>\n      <th>2</th>\n      <td>22784</td>\n      <td>28473</td>\n      <td>android</td>\n      <td>5.1</td>\n      <td>SM-G903F</td>\n      <td>1</td>\n    </tr>\n    <tr>\n      <th>3</th>\n      <td>22785</td>\n      <td>15200</td>\n      <td>ios</td>\n      <td>10.2</td>\n      <td>iPhone7,2</td>\n      <td>3</td>\n    </tr>\n    <tr>\n      <th>4</th>\n      <td>22786</td>\n      <td>28239</td>\n      <td>android</td>\n      <td>6.0</td>\n      <td>ONE E1003</td>\n      <td>1</td>\n    </tr>\n    <tr>\n      <th>...</th>\n      <td>...</td>\n      <td>...</td>\n      <td>...</td>\n      <td>...</td>\n      <td>...</td>\n      <td>...</td>\n    </tr>\n    <tr>\n      <th>267</th>\n      <td>23049</td>\n      <td>29725</td>\n      <td>android</td>\n      <td>6.0</td>\n      <td>SM-G900F</td>\n      <td>1</td>\n    </tr>\n    <tr>\n      <th>268</th>\n      <td>23050</td>\n      <td>29726</td>\n      <td>ios</td>\n      <td>10.2</td>\n      <td>iPhone7,2</td>\n      <td>3</td>\n    </tr>\n    <tr>\n      <th>269</th>\n      <td>23051</td>\n      <td>29726</td>\n      <td>ios</td>\n      <td>10.2</td>\n      <td>iPhone7,2</td>\n      <td>3</td>\n    </tr>\n    <tr>\n      <th>270</th>\n      <td>23052</td>\n      <td>29727</td>\n      <td>ios</td>\n      <td>10.1</td>\n      <td>iPhone8,4</td>\n      <td>3</td>\n    </tr>\n    <tr>\n      <th>271</th>\n      <td>23053</td>\n      <td>20257</td>\n      <td>android</td>\n      <td>5.1</td>\n      <td>Vodafone Smart ultra 6</td>\n      <td>1</td>\n    </tr>\n  </tbody>\n</table>\n<p>272 rows × 6 columns</p>\n</div>"
     },
     "metadata": {},
     "execution_count": 4
    }
   ],
   "source": [
    "df1"
   ]
  },
  {
   "cell_type": "code",
   "execution_count": 5,
   "metadata": {},
   "outputs": [
    {
     "output_type": "execute_result",
     "data": {
      "text/plain": "     outgoing_mins_per_month  outgoing_sms_per_month  monthly_mb  use_id\n0                      21.97                    4.82     1557.33   22787\n1                    1710.08                  136.88     7267.55   22788\n2                    1710.08                  136.88     7267.55   22789\n3                      94.46                   35.17      519.12   22790\n4                      71.59                   79.26     1557.33   22792\n..                       ...                     ...         ...     ...\n235                   260.66                   68.44      896.96   25008\n236                    97.12                   36.50     2815.00   25040\n237                   355.93                   12.37     6828.09   25046\n238                   632.06                  120.46     1453.16   25058\n239                   488.70                  906.92     3089.85   25220\n\n[240 rows x 4 columns]",
      "text/html": "<div>\n<style scoped>\n    .dataframe tbody tr th:only-of-type {\n        vertical-align: middle;\n    }\n\n    .dataframe tbody tr th {\n        vertical-align: top;\n    }\n\n    .dataframe thead th {\n        text-align: right;\n    }\n</style>\n<table border=\"1\" class=\"dataframe\">\n  <thead>\n    <tr style=\"text-align: right;\">\n      <th></th>\n      <th>outgoing_mins_per_month</th>\n      <th>outgoing_sms_per_month</th>\n      <th>monthly_mb</th>\n      <th>use_id</th>\n    </tr>\n  </thead>\n  <tbody>\n    <tr>\n      <th>0</th>\n      <td>21.97</td>\n      <td>4.82</td>\n      <td>1557.33</td>\n      <td>22787</td>\n    </tr>\n    <tr>\n      <th>1</th>\n      <td>1710.08</td>\n      <td>136.88</td>\n      <td>7267.55</td>\n      <td>22788</td>\n    </tr>\n    <tr>\n      <th>2</th>\n      <td>1710.08</td>\n      <td>136.88</td>\n      <td>7267.55</td>\n      <td>22789</td>\n    </tr>\n    <tr>\n      <th>3</th>\n      <td>94.46</td>\n      <td>35.17</td>\n      <td>519.12</td>\n      <td>22790</td>\n    </tr>\n    <tr>\n      <th>4</th>\n      <td>71.59</td>\n      <td>79.26</td>\n      <td>1557.33</td>\n      <td>22792</td>\n    </tr>\n    <tr>\n      <th>...</th>\n      <td>...</td>\n      <td>...</td>\n      <td>...</td>\n      <td>...</td>\n    </tr>\n    <tr>\n      <th>235</th>\n      <td>260.66</td>\n      <td>68.44</td>\n      <td>896.96</td>\n      <td>25008</td>\n    </tr>\n    <tr>\n      <th>236</th>\n      <td>97.12</td>\n      <td>36.50</td>\n      <td>2815.00</td>\n      <td>25040</td>\n    </tr>\n    <tr>\n      <th>237</th>\n      <td>355.93</td>\n      <td>12.37</td>\n      <td>6828.09</td>\n      <td>25046</td>\n    </tr>\n    <tr>\n      <th>238</th>\n      <td>632.06</td>\n      <td>120.46</td>\n      <td>1453.16</td>\n      <td>25058</td>\n    </tr>\n    <tr>\n      <th>239</th>\n      <td>488.70</td>\n      <td>906.92</td>\n      <td>3089.85</td>\n      <td>25220</td>\n    </tr>\n  </tbody>\n</table>\n<p>240 rows × 4 columns</p>\n</div>"
     },
     "metadata": {},
     "execution_count": 5
    }
   ],
   "source": [
    "df2"
   ]
  },
  {
   "cell_type": "code",
   "execution_count": 25,
   "metadata": {},
   "outputs": [
    {
     "output_type": "execute_result",
     "data": {
      "text/plain": "      Manufacturer Marketing Name       Device                      Model\n0              NaN            NaN       AD681H  Smartfren Andromax AD681H\n1              NaN            NaN        FJL21                      FJL21\n2              NaN            NaN          T31              Panasonic T31\n3              NaN            NaN     hws7721g         MediaPad 7 Youth 2\n4               3Q        OC1020A      OC1020A                    OC1020A\n...            ...            ...          ...                        ...\n14541        pendo    PNDPP44QC10  PNDPP44QC10                PNDPP44QC10\n14542        pendo     PNDPP44QC7   PNDPP44QC7                 PNDPP44QC7\n14543   sugar_aums         QPOINT        QPI-1                      QPI-1\n14544    tecmobile       OmnisOne     OmnisOne                  Omnis One\n14545        ucall          EASY1        EASY1                      EASY1\n\n[14546 rows x 4 columns]",
      "text/html": "<div>\n<style scoped>\n    .dataframe tbody tr th:only-of-type {\n        vertical-align: middle;\n    }\n\n    .dataframe tbody tr th {\n        vertical-align: top;\n    }\n\n    .dataframe thead th {\n        text-align: right;\n    }\n</style>\n<table border=\"1\" class=\"dataframe\">\n  <thead>\n    <tr style=\"text-align: right;\">\n      <th></th>\n      <th>Manufacturer</th>\n      <th>Marketing Name</th>\n      <th>Device</th>\n      <th>Model</th>\n    </tr>\n  </thead>\n  <tbody>\n    <tr>\n      <th>0</th>\n      <td>NaN</td>\n      <td>NaN</td>\n      <td>AD681H</td>\n      <td>Smartfren Andromax AD681H</td>\n    </tr>\n    <tr>\n      <th>1</th>\n      <td>NaN</td>\n      <td>NaN</td>\n      <td>FJL21</td>\n      <td>FJL21</td>\n    </tr>\n    <tr>\n      <th>2</th>\n      <td>NaN</td>\n      <td>NaN</td>\n      <td>T31</td>\n      <td>Panasonic T31</td>\n    </tr>\n    <tr>\n      <th>3</th>\n      <td>NaN</td>\n      <td>NaN</td>\n      <td>hws7721g</td>\n      <td>MediaPad 7 Youth 2</td>\n    </tr>\n    <tr>\n      <th>4</th>\n      <td>3Q</td>\n      <td>OC1020A</td>\n      <td>OC1020A</td>\n      <td>OC1020A</td>\n    </tr>\n    <tr>\n      <th>...</th>\n      <td>...</td>\n      <td>...</td>\n      <td>...</td>\n      <td>...</td>\n    </tr>\n    <tr>\n      <th>14541</th>\n      <td>pendo</td>\n      <td>PNDPP44QC10</td>\n      <td>PNDPP44QC10</td>\n      <td>PNDPP44QC10</td>\n    </tr>\n    <tr>\n      <th>14542</th>\n      <td>pendo</td>\n      <td>PNDPP44QC7</td>\n      <td>PNDPP44QC7</td>\n      <td>PNDPP44QC7</td>\n    </tr>\n    <tr>\n      <th>14543</th>\n      <td>sugar_aums</td>\n      <td>QPOINT</td>\n      <td>QPI-1</td>\n      <td>QPI-1</td>\n    </tr>\n    <tr>\n      <th>14544</th>\n      <td>tecmobile</td>\n      <td>OmnisOne</td>\n      <td>OmnisOne</td>\n      <td>Omnis One</td>\n    </tr>\n    <tr>\n      <th>14545</th>\n      <td>ucall</td>\n      <td>EASY1</td>\n      <td>EASY1</td>\n      <td>EASY1</td>\n    </tr>\n  </tbody>\n</table>\n<p>14546 rows × 4 columns</p>\n</div>"
     },
     "metadata": {},
     "execution_count": 25
    }
   ],
   "source": [
    "df3"
   ]
  },
  {
   "source": [
    "#Le premier Merge"
   ],
   "cell_type": "markdown",
   "metadata": {}
  },
  {
   "cell_type": "code",
   "execution_count": 94,
   "metadata": {},
   "outputs": [
    {
     "output_type": "execute_result",
     "data": {
      "text/plain": "     use_id platform                  device  outgoing_mins_per_month  \\\n0     22787  android                GT-I9505                    21.97   \n1     22788  android                SM-G930F                  1710.08   \n2     22789  android                SM-G930F                  1710.08   \n3     22790  android                   D2303                    94.46   \n4     22792  android                SM-G361F                    71.59   \n..      ...      ...                     ...                      ...   \n154   23043  android                SM-G900F                   198.59   \n155   23044  android                SM-G900F                   198.59   \n156   23046  android              Moto G (4)                   106.65   \n157   23049  android                SM-G900F                   344.53   \n158   23053  android  Vodafone Smart ultra 6                    42.75   \n\n     outgoing_sms_per_month  monthly_mb  \n0                      4.82     1557.33  \n1                    136.88     7267.55  \n2                    136.88     7267.55  \n3                     35.17      519.12  \n4                     79.26     1557.33  \n..                      ...         ...  \n154                   90.49     5191.12  \n155                   90.49     3114.67  \n156                   82.13     5191.12  \n157                   20.53      519.12  \n158                   46.83     5191.12  \n\n[159 rows x 6 columns]",
      "text/html": "<div>\n<style scoped>\n    .dataframe tbody tr th:only-of-type {\n        vertical-align: middle;\n    }\n\n    .dataframe tbody tr th {\n        vertical-align: top;\n    }\n\n    .dataframe thead th {\n        text-align: right;\n    }\n</style>\n<table border=\"1\" class=\"dataframe\">\n  <thead>\n    <tr style=\"text-align: right;\">\n      <th></th>\n      <th>use_id</th>\n      <th>platform</th>\n      <th>device</th>\n      <th>outgoing_mins_per_month</th>\n      <th>outgoing_sms_per_month</th>\n      <th>monthly_mb</th>\n    </tr>\n  </thead>\n  <tbody>\n    <tr>\n      <th>0</th>\n      <td>22787</td>\n      <td>android</td>\n      <td>GT-I9505</td>\n      <td>21.97</td>\n      <td>4.82</td>\n      <td>1557.33</td>\n    </tr>\n    <tr>\n      <th>1</th>\n      <td>22788</td>\n      <td>android</td>\n      <td>SM-G930F</td>\n      <td>1710.08</td>\n      <td>136.88</td>\n      <td>7267.55</td>\n    </tr>\n    <tr>\n      <th>2</th>\n      <td>22789</td>\n      <td>android</td>\n      <td>SM-G930F</td>\n      <td>1710.08</td>\n      <td>136.88</td>\n      <td>7267.55</td>\n    </tr>\n    <tr>\n      <th>3</th>\n      <td>22790</td>\n      <td>android</td>\n      <td>D2303</td>\n      <td>94.46</td>\n      <td>35.17</td>\n      <td>519.12</td>\n    </tr>\n    <tr>\n      <th>4</th>\n      <td>22792</td>\n      <td>android</td>\n      <td>SM-G361F</td>\n      <td>71.59</td>\n      <td>79.26</td>\n      <td>1557.33</td>\n    </tr>\n    <tr>\n      <th>...</th>\n      <td>...</td>\n      <td>...</td>\n      <td>...</td>\n      <td>...</td>\n      <td>...</td>\n      <td>...</td>\n    </tr>\n    <tr>\n      <th>154</th>\n      <td>23043</td>\n      <td>android</td>\n      <td>SM-G900F</td>\n      <td>198.59</td>\n      <td>90.49</td>\n      <td>5191.12</td>\n    </tr>\n    <tr>\n      <th>155</th>\n      <td>23044</td>\n      <td>android</td>\n      <td>SM-G900F</td>\n      <td>198.59</td>\n      <td>90.49</td>\n      <td>3114.67</td>\n    </tr>\n    <tr>\n      <th>156</th>\n      <td>23046</td>\n      <td>android</td>\n      <td>Moto G (4)</td>\n      <td>106.65</td>\n      <td>82.13</td>\n      <td>5191.12</td>\n    </tr>\n    <tr>\n      <th>157</th>\n      <td>23049</td>\n      <td>android</td>\n      <td>SM-G900F</td>\n      <td>344.53</td>\n      <td>20.53</td>\n      <td>519.12</td>\n    </tr>\n    <tr>\n      <th>158</th>\n      <td>23053</td>\n      <td>android</td>\n      <td>Vodafone Smart ultra 6</td>\n      <td>42.75</td>\n      <td>46.83</td>\n      <td>5191.12</td>\n    </tr>\n  </tbody>\n</table>\n<p>159 rows × 6 columns</p>\n</div>"
     },
     "metadata": {},
     "execution_count": 94
    }
   ],
   "source": [
    "df4 = pd.merge(df1[[\"use_id\", \"platform\", \"device\"]], df2, on=\"use_id\")\n",
    "df4"
   ]
  },
  {
   "source": [
    "#Affichage des shape des dataframe ainsi que celle du résultat du merge"
   ],
   "cell_type": "markdown",
   "metadata": {}
  },
  {
   "cell_type": "code",
   "execution_count": 92,
   "metadata": {
    "tags": []
   },
   "outputs": [
    {
     "output_type": "stream",
     "name": "stdout",
     "text": "user_device dimension :  (272, 6)\nuser_usage dimension :  (240, 4)\n(159, 6)\n"
    }
   ],
   "source": [
    "print(\"user_device dimension : \", df1.shape)\n",
    "print(\"user_usage dimension : \", df2.shape)\n",
    "print(df4.shape)"
   ]
  },
  {
   "source": [
    "#Afficher via value_counts les use_id présent dans le nouveau dataset ainsi que ceux non présent"
   ],
   "cell_type": "markdown",
   "metadata": {}
  },
  {
   "cell_type": "code",
   "execution_count": 132,
   "metadata": {},
   "outputs": [
    {
     "output_type": "execute_result",
     "data": {
      "text/plain": "True     159\nFalse     81\nName: use_id, dtype: int64"
     },
     "metadata": {},
     "execution_count": 132
    }
   ],
   "source": [
    "df2[\"use_id\"].isin(df4[\"use_id\"]).value_counts()"
   ]
  },
  {
   "cell_type": "code",
   "execution_count": 140,
   "metadata": {},
   "outputs": [],
   "source": [
    "merge_left = pd.merge(df2, df1[[\"use_id\", \"platform\", \"device\"]], left_on=\"use_id\", right_on=\"use_id\", how=\"left\")"
   ]
  },
  {
   "cell_type": "code",
   "execution_count": 141,
   "metadata": {
    "tags": []
   },
   "outputs": [
    {
     "output_type": "stream",
     "name": "stdout",
     "text": "user_usage dimensions: (240, 4)\nresult dimensions: (240, 6)\n"
    }
   ],
   "source": [
    "print(\"user_usage dimensions:\", df2.shape)\n",
    "print(\"result dimensions:\", merge_left.shape)"
   ]
  },
  {
   "cell_type": "code",
   "execution_count": 142,
   "metadata": {},
   "outputs": [
    {
     "output_type": "execute_result",
     "data": {
      "text/plain": "   outgoing_mins_per_month  outgoing_sms_per_month  monthly_mb  use_id  \\\n0                    21.97                    4.82     1557.33   22787   \n1                  1710.08                  136.88     7267.55   22788   \n2                  1710.08                  136.88     7267.55   22789   \n3                    94.46                   35.17      519.12   22790   \n4                    71.59                   79.26     1557.33   22792   \n\n  platform    device  \n0  android  GT-I9505  \n1  android  SM-G930F  \n2  android  SM-G930F  \n3  android     D2303  \n4  android  SM-G361F  ",
      "text/html": "<div>\n<style scoped>\n    .dataframe tbody tr th:only-of-type {\n        vertical-align: middle;\n    }\n\n    .dataframe tbody tr th {\n        vertical-align: top;\n    }\n\n    .dataframe thead th {\n        text-align: right;\n    }\n</style>\n<table border=\"1\" class=\"dataframe\">\n  <thead>\n    <tr style=\"text-align: right;\">\n      <th></th>\n      <th>outgoing_mins_per_month</th>\n      <th>outgoing_sms_per_month</th>\n      <th>monthly_mb</th>\n      <th>use_id</th>\n      <th>platform</th>\n      <th>device</th>\n    </tr>\n  </thead>\n  <tbody>\n    <tr>\n      <th>0</th>\n      <td>21.97</td>\n      <td>4.82</td>\n      <td>1557.33</td>\n      <td>22787</td>\n      <td>android</td>\n      <td>GT-I9505</td>\n    </tr>\n    <tr>\n      <th>1</th>\n      <td>1710.08</td>\n      <td>136.88</td>\n      <td>7267.55</td>\n      <td>22788</td>\n      <td>android</td>\n      <td>SM-G930F</td>\n    </tr>\n    <tr>\n      <th>2</th>\n      <td>1710.08</td>\n      <td>136.88</td>\n      <td>7267.55</td>\n      <td>22789</td>\n      <td>android</td>\n      <td>SM-G930F</td>\n    </tr>\n    <tr>\n      <th>3</th>\n      <td>94.46</td>\n      <td>35.17</td>\n      <td>519.12</td>\n      <td>22790</td>\n      <td>android</td>\n      <td>D2303</td>\n    </tr>\n    <tr>\n      <th>4</th>\n      <td>71.59</td>\n      <td>79.26</td>\n      <td>1557.33</td>\n      <td>22792</td>\n      <td>android</td>\n      <td>SM-G361F</td>\n    </tr>\n  </tbody>\n</table>\n</div>"
     },
     "metadata": {},
     "execution_count": 142
    }
   ],
   "source": [
    "merge_left.head(5)"
   ]
  },
  {
   "cell_type": "code",
   "execution_count": 143,
   "metadata": {},
   "outputs": [],
   "source": [
    "merge_right = pd.merge(df2, df1[[\"use_id\", \"platform\", \"device\"]], how=\"right\")"
   ]
  },
  {
   "cell_type": "code",
   "execution_count": 146,
   "metadata": {
    "tags": []
   },
   "outputs": [
    {
     "output_type": "stream",
     "name": "stdout",
     "text": "user_device dimensions: (272, 6)\nresult dimensions: (272, 6)\n"
    }
   ],
   "source": [
    "print(\"user_device dimensions:\", df1.shape)\n",
    "print(\"result dimensions:\", merge_right.shape)"
   ]
  },
  {
   "cell_type": "code",
   "execution_count": 162,
   "metadata": {},
   "outputs": [
    {
     "output_type": "error",
     "ename": "KeyError",
     "evalue": "'= true'",
     "traceback": [
      "\u001b[0;31m---------------------------------------------------------------------------\u001b[0m",
      "\u001b[0;31mKeyError\u001b[0m                                  Traceback (most recent call last)",
      "\u001b[0;32m~/.local/lib/python3.8/site-packages/pandas/core/indexes/base.py\u001b[0m in \u001b[0;36mget_loc\u001b[0;34m(self, key, method, tolerance)\u001b[0m\n\u001b[1;32m   2888\u001b[0m             \u001b[0;32mtry\u001b[0m\u001b[0;34m:\u001b[0m\u001b[0;34m\u001b[0m\u001b[0;34m\u001b[0m\u001b[0m\n\u001b[0;32m-> 2889\u001b[0;31m                 \u001b[0;32mreturn\u001b[0m \u001b[0mself\u001b[0m\u001b[0;34m.\u001b[0m\u001b[0m_engine\u001b[0m\u001b[0;34m.\u001b[0m\u001b[0mget_loc\u001b[0m\u001b[0;34m(\u001b[0m\u001b[0mcasted_key\u001b[0m\u001b[0;34m)\u001b[0m\u001b[0;34m\u001b[0m\u001b[0;34m\u001b[0m\u001b[0m\n\u001b[0m\u001b[1;32m   2890\u001b[0m             \u001b[0;32mexcept\u001b[0m \u001b[0mKeyError\u001b[0m \u001b[0;32mas\u001b[0m \u001b[0merr\u001b[0m\u001b[0;34m:\u001b[0m\u001b[0;34m\u001b[0m\u001b[0;34m\u001b[0m\u001b[0m\n",
      "\u001b[0;32mpandas/_libs/index.pyx\u001b[0m in \u001b[0;36mpandas._libs.index.IndexEngine.get_loc\u001b[0;34m()\u001b[0m\n",
      "\u001b[0;32mpandas/_libs/index.pyx\u001b[0m in \u001b[0;36mpandas._libs.index.IndexEngine.get_loc\u001b[0;34m()\u001b[0m\n",
      "\u001b[0;32mpandas/_libs/hashtable_class_helper.pxi\u001b[0m in \u001b[0;36mpandas._libs.hashtable.PyObjectHashTable.get_item\u001b[0;34m()\u001b[0m\n",
      "\u001b[0;32mpandas/_libs/hashtable_class_helper.pxi\u001b[0m in \u001b[0;36mpandas._libs.hashtable.PyObjectHashTable.get_item\u001b[0;34m()\u001b[0m\n",
      "\u001b[0;31mKeyError\u001b[0m: '= true'",
      "\nThe above exception was the direct cause of the following exception:\n",
      "\u001b[0;31mKeyError\u001b[0m                                  Traceback (most recent call last)",
      "\u001b[0;32m<ipython-input-162-50ad2f0ace85>\u001b[0m in \u001b[0;36m<module>\u001b[0;34m\u001b[0m\n\u001b[0;32m----> 1\u001b[0;31m \u001b[0mmerge_left\u001b[0m\u001b[0;34m.\u001b[0m\u001b[0misna\u001b[0m\u001b[0;34m(\u001b[0m\u001b[0;34m)\u001b[0m\u001b[0;34m.\u001b[0m\u001b[0mcount\u001b[0m\u001b[0;34m(\u001b[0m\u001b[0;34m)\u001b[0m\u001b[0;34m[\u001b[0m\u001b[0;34m\"= true\"\u001b[0m\u001b[0;34m]\u001b[0m\u001b[0;34m\u001b[0m\u001b[0;34m\u001b[0m\u001b[0m\n\u001b[0m",
      "\u001b[0;32m~/.local/lib/python3.8/site-packages/pandas/core/series.py\u001b[0m in \u001b[0;36m__getitem__\u001b[0;34m(self, key)\u001b[0m\n\u001b[1;32m    880\u001b[0m \u001b[0;34m\u001b[0m\u001b[0m\n\u001b[1;32m    881\u001b[0m         \u001b[0;32melif\u001b[0m \u001b[0mkey_is_scalar\u001b[0m\u001b[0;34m:\u001b[0m\u001b[0;34m\u001b[0m\u001b[0;34m\u001b[0m\u001b[0m\n\u001b[0;32m--> 882\u001b[0;31m             \u001b[0;32mreturn\u001b[0m \u001b[0mself\u001b[0m\u001b[0;34m.\u001b[0m\u001b[0m_get_value\u001b[0m\u001b[0;34m(\u001b[0m\u001b[0mkey\u001b[0m\u001b[0;34m)\u001b[0m\u001b[0;34m\u001b[0m\u001b[0;34m\u001b[0m\u001b[0m\n\u001b[0m\u001b[1;32m    883\u001b[0m \u001b[0;34m\u001b[0m\u001b[0m\n\u001b[1;32m    884\u001b[0m         if (\n",
      "\u001b[0;32m~/.local/lib/python3.8/site-packages/pandas/core/series.py\u001b[0m in \u001b[0;36m_get_value\u001b[0;34m(self, label, takeable)\u001b[0m\n\u001b[1;32m    989\u001b[0m \u001b[0;34m\u001b[0m\u001b[0m\n\u001b[1;32m    990\u001b[0m         \u001b[0;31m# Similar to Index.get_value, but we do not fall back to positional\u001b[0m\u001b[0;34m\u001b[0m\u001b[0;34m\u001b[0m\u001b[0;34m\u001b[0m\u001b[0m\n\u001b[0;32m--> 991\u001b[0;31m         \u001b[0mloc\u001b[0m \u001b[0;34m=\u001b[0m \u001b[0mself\u001b[0m\u001b[0;34m.\u001b[0m\u001b[0mindex\u001b[0m\u001b[0;34m.\u001b[0m\u001b[0mget_loc\u001b[0m\u001b[0;34m(\u001b[0m\u001b[0mlabel\u001b[0m\u001b[0;34m)\u001b[0m\u001b[0;34m\u001b[0m\u001b[0;34m\u001b[0m\u001b[0m\n\u001b[0m\u001b[1;32m    992\u001b[0m         \u001b[0;32mreturn\u001b[0m \u001b[0mself\u001b[0m\u001b[0;34m.\u001b[0m\u001b[0mindex\u001b[0m\u001b[0;34m.\u001b[0m\u001b[0m_get_values_for_loc\u001b[0m\u001b[0;34m(\u001b[0m\u001b[0mself\u001b[0m\u001b[0;34m,\u001b[0m \u001b[0mloc\u001b[0m\u001b[0;34m,\u001b[0m \u001b[0mlabel\u001b[0m\u001b[0;34m)\u001b[0m\u001b[0;34m\u001b[0m\u001b[0;34m\u001b[0m\u001b[0m\n\u001b[1;32m    993\u001b[0m \u001b[0;34m\u001b[0m\u001b[0m\n",
      "\u001b[0;32m~/.local/lib/python3.8/site-packages/pandas/core/indexes/base.py\u001b[0m in \u001b[0;36mget_loc\u001b[0;34m(self, key, method, tolerance)\u001b[0m\n\u001b[1;32m   2889\u001b[0m                 \u001b[0;32mreturn\u001b[0m \u001b[0mself\u001b[0m\u001b[0;34m.\u001b[0m\u001b[0m_engine\u001b[0m\u001b[0;34m.\u001b[0m\u001b[0mget_loc\u001b[0m\u001b[0;34m(\u001b[0m\u001b[0mcasted_key\u001b[0m\u001b[0;34m)\u001b[0m\u001b[0;34m\u001b[0m\u001b[0;34m\u001b[0m\u001b[0m\n\u001b[1;32m   2890\u001b[0m             \u001b[0;32mexcept\u001b[0m \u001b[0mKeyError\u001b[0m \u001b[0;32mas\u001b[0m \u001b[0merr\u001b[0m\u001b[0;34m:\u001b[0m\u001b[0;34m\u001b[0m\u001b[0;34m\u001b[0m\u001b[0m\n\u001b[0;32m-> 2891\u001b[0;31m                 \u001b[0;32mraise\u001b[0m \u001b[0mKeyError\u001b[0m\u001b[0;34m(\u001b[0m\u001b[0mkey\u001b[0m\u001b[0;34m)\u001b[0m \u001b[0;32mfrom\u001b[0m \u001b[0merr\u001b[0m\u001b[0;34m\u001b[0m\u001b[0;34m\u001b[0m\u001b[0m\n\u001b[0m\u001b[1;32m   2892\u001b[0m \u001b[0;34m\u001b[0m\u001b[0m\n\u001b[1;32m   2893\u001b[0m         \u001b[0;32mif\u001b[0m \u001b[0mtolerance\u001b[0m \u001b[0;32mis\u001b[0m \u001b[0;32mnot\u001b[0m \u001b[0;32mNone\u001b[0m\u001b[0;34m:\u001b[0m\u001b[0;34m\u001b[0m\u001b[0;34m\u001b[0m\u001b[0m\n",
      "\u001b[0;31mKeyError\u001b[0m: '= true'"
     ]
    }
   ],
   "source": [
    "merge_left.isna().count()"
   ]
  },
  {
   "cell_type": "code",
   "execution_count": null,
   "metadata": {},
   "outputs": [],
   "source": []
  }
 ]
}