{
 "metadata": {
  "language_info": {
   "codemirror_mode": {
    "name": "ipython",
    "version": 3
   },
   "file_extension": ".py",
   "mimetype": "text/x-python",
   "name": "python",
   "nbconvert_exporter": "python",
   "pygments_lexer": "ipython3",
   "version": "3.8.2-final"
  },
  "orig_nbformat": 2,
  "kernelspec": {
   "name": "Python 3.8.2 64-bit",
   "display_name": "Python 3.8.2 64-bit",
   "metadata": {
    "interpreter": {
     "hash": "31f2aee4e71d21fbe5cf8b01ff0e069b9275f58929596ceb00d14d90e3e16cd6"
    }
   }
  }
 },
 "nbformat": 4,
 "nbformat_minor": 2,
 "cells": [
  {
   "source": [
    "## On importe le dataset iris et on sépare les features de la target"
   ],
   "cell_type": "markdown",
   "metadata": {}
  },
  {
   "cell_type": "code",
   "execution_count": 1,
   "metadata": {},
   "outputs": [],
   "source": [
    "import seaborn as sns; sns.set()\n",
    "\n",
    "#Chargement du dataset\n",
    "iris = sns.load_dataset('iris')\n",
    "\n",
    "#Isoler les features et la variable cible\n",
    "X = iris.drop('species', axis='columns')\n",
    "Y = iris['species'].astype('category').cat.codes"
   ]
  },
  {
   "cell_type": "code",
   "execution_count": 2,
   "metadata": {},
   "outputs": [],
   "source": [
    "#Séparer les données entre le TRAINING set et le TEST set\n",
    "from sklearn.model_selection import train_test_split\n",
    "splits = train_test_split(\n",
    "    X,\n",
    "    Y,\n",
    "    train_size=0.3,\n",
    "    stratify=Y,\n",
    "    random_state=2\n",
    ")\n",
    "\n",
    "X_train, X_test, Y_train, Y_test = splits"
   ]
  },
  {
   "cell_type": "code",
   "execution_count": 3,
   "metadata": {},
   "outputs": [],
   "source": [
    "#Méthode de calcul de l'accuracy de la prédiction\n",
    "def accuracy(preds, target):\n",
    "    return (preds == target).sum() / len(target)"
   ]
  },
  {
   "source": [
    "## Créer un model de SVC et l'entrainer"
   ],
   "cell_type": "markdown",
   "metadata": {}
  },
  {
   "cell_type": "code",
   "execution_count": 4,
   "metadata": {},
   "outputs": [
    {
     "output_type": "execute_result",
     "data": {
      "text/plain": "GaussianNB()"
     },
     "metadata": {},
     "execution_count": 4
    }
   ],
   "source": [
    "from sklearn.naive_bayes import GaussianNB as GNB\n",
    "\n",
    "gnb = GNB()\n",
    "\n",
    "gnb.fit(X_train, Y_train)"
   ]
  },
  {
   "source": [
    "## Afficher l'accuracy de notre predict"
   ],
   "cell_type": "markdown",
   "metadata": {}
  },
  {
   "cell_type": "code",
   "execution_count": 5,
   "metadata": {
    "tags": []
   },
   "outputs": [
    {
     "output_type": "stream",
     "name": "stdout",
     "text": "0.9619047619047619\n"
    }
   ],
   "source": [
    "predictions = gnb.predict(X_test)\n",
    "\n",
    "print(accuracy(predictions, Y_test))"
   ]
  },
  {
   "cell_type": "code",
   "execution_count": null,
   "metadata": {},
   "outputs": [],
   "source": []
  }
 ]
}