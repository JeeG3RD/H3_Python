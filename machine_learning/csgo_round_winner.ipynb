{
 "metadata": {
  "language_info": {
   "codemirror_mode": {
    "name": "ipython",
    "version": 3
   },
   "file_extension": ".py",
   "mimetype": "text/x-python",
   "name": "python",
   "nbconvert_exporter": "python",
   "pygments_lexer": "ipython3",
   "version": "3.8.2-final"
  },
  "orig_nbformat": 2,
  "kernelspec": {
   "name": "Python 3.8.2 64-bit",
   "display_name": "Python 3.8.2 64-bit",
   "metadata": {
    "interpreter": {
     "hash": "31f2aee4e71d21fbe5cf8b01ff0e069b9275f58929596ceb00d14d90e3e16cd6"
    }
   }
  }
 },
 "nbformat": 4,
 "nbformat_minor": 2,
 "cells": [
  {
   "source": [
    "# CSGO Round winner classification\n",
    "### URL : https://www.kaggle.com/christianlillelund/csgo-round-winner-classification"
   ],
   "cell_type": "markdown",
   "metadata": {}
  },
  {
   "source": [
    "### Import du dataset"
   ],
   "cell_type": "markdown",
   "metadata": {}
  },
  {
   "cell_type": "code",
   "execution_count": 1,
   "metadata": {},
   "outputs": [],
   "source": [
    "import seaborn as sns; sns.set()\n",
    "import pandas as pd\n",
    "\n",
    "df_csgo = pd.read_csv('csv_files/csgo_round_snapshots.csv')"
   ]
  },
  {
   "source": [
    "### On affiche la shape du dataset et on affiche ses colonnes"
   ],
   "cell_type": "markdown",
   "metadata": {}
  },
  {
   "cell_type": "code",
   "execution_count": 2,
   "metadata": {},
   "outputs": [
    {
     "output_type": "execute_result",
     "data": {
      "text/plain": "(122410, 97)"
     },
     "metadata": {},
     "execution_count": 2
    }
   ],
   "source": [
    "df_csgo.shape"
   ]
  },
  {
   "source": [
    "df_csgo.info()"
   ],
   "cell_type": "code",
   "metadata": {
    "tags": []
   },
   "execution_count": 45,
   "outputs": [
    {
     "output_type": "stream",
     "name": "stdout",
     "text": "&lt;class &#39;pandas.core.frame.DataFrame&#39;&gt;\nRangeIndex: 122410 entries, 0 to 122409\nData columns (total 97 columns):\n #   Column                        Non-Null Count   Dtype  \n---  ------                        --------------   -----  \n 0   time_left                     122410 non-null  float64\n 1   ct_score                      122410 non-null  float64\n 2   t_score                       122410 non-null  float64\n 3   map                           122410 non-null  object \n 4   bomb_planted                  122410 non-null  bool   \n 5   ct_health                     122410 non-null  float64\n 6   t_health                      122410 non-null  float64\n 7   ct_armor                      122410 non-null  float64\n 8   t_armor                       122410 non-null  float64\n 9   ct_money                      122410 non-null  float64\n 10  t_money                       122410 non-null  float64\n 11  ct_helmets                    122410 non-null  float64\n 12  t_helmets                     122410 non-null  float64\n 13  ct_defuse_kits                122410 non-null  float64\n 14  ct_players_alive              122410 non-null  float64\n 15  t_players_alive               122410 non-null  float64\n 16  ct_weapon_ak47                122410 non-null  float64\n 17  t_weapon_ak47                 122410 non-null  float64\n 18  ct_weapon_aug                 122410 non-null  float64\n 19  t_weapon_aug                  122410 non-null  float64\n 20  ct_weapon_awp                 122410 non-null  float64\n 21  t_weapon_awp                  122410 non-null  float64\n 22  ct_weapon_bizon               122410 non-null  float64\n 23  t_weapon_bizon                122410 non-null  float64\n 24  ct_weapon_cz75auto            122410 non-null  float64\n 25  t_weapon_cz75auto             122410 non-null  float64\n 26  ct_weapon_elite               122410 non-null  float64\n 27  t_weapon_elite                122410 non-null  float64\n 28  ct_weapon_famas               122410 non-null  float64\n 29  t_weapon_famas                122410 non-null  float64\n 30  ct_weapon_g3sg1               122410 non-null  float64\n 31  t_weapon_g3sg1                122410 non-null  float64\n 32  ct_weapon_galilar             122410 non-null  float64\n 33  t_weapon_galilar              122410 non-null  float64\n 34  ct_weapon_glock               122410 non-null  float64\n 35  t_weapon_glock                122410 non-null  float64\n 36  ct_weapon_m249                122410 non-null  float64\n 37  t_weapon_m249                 122410 non-null  float64\n 38  ct_weapon_m4a1s               122410 non-null  float64\n 39  t_weapon_m4a1s                122410 non-null  float64\n 40  ct_weapon_m4a4                122410 non-null  float64\n 41  t_weapon_m4a4                 122410 non-null  float64\n 42  ct_weapon_mac10               122410 non-null  float64\n 43  t_weapon_mac10                122410 non-null  float64\n 44  ct_weapon_mag7                122410 non-null  float64\n 45  t_weapon_mag7                 122410 non-null  float64\n 46  ct_weapon_mp5sd               122410 non-null  float64\n 47  t_weapon_mp5sd                122410 non-null  float64\n 48  ct_weapon_mp7                 122410 non-null  float64\n 49  t_weapon_mp7                  122410 non-null  float64\n 50  ct_weapon_mp9                 122410 non-null  float64\n 51  t_weapon_mp9                  122410 non-null  float64\n 52  ct_weapon_negev               122410 non-null  float64\n 53  t_weapon_negev                122410 non-null  float64\n 54  ct_weapon_nova                122410 non-null  float64\n 55  t_weapon_nova                 122410 non-null  float64\n 56  ct_weapon_p90                 122410 non-null  float64\n 57  t_weapon_p90                  122410 non-null  float64\n 58  ct_weapon_r8revolver          122410 non-null  float64\n 59  t_weapon_r8revolver           122410 non-null  float64\n 60  ct_weapon_sawedoff            122410 non-null  float64\n 61  t_weapon_sawedoff             122410 non-null  float64\n 62  ct_weapon_scar20              122410 non-null  float64\n 63  t_weapon_scar20               122410 non-null  float64\n 64  ct_weapon_sg553               122410 non-null  float64\n 65  t_weapon_sg553                122410 non-null  float64\n 66  ct_weapon_ssg08               122410 non-null  float64\n 67  t_weapon_ssg08                122410 non-null  float64\n 68  ct_weapon_ump45               122410 non-null  float64\n 69  t_weapon_ump45                122410 non-null  float64\n 70  ct_weapon_xm1014              122410 non-null  float64\n 71  t_weapon_xm1014               122410 non-null  float64\n 72  ct_weapon_deagle              122410 non-null  float64\n 73  t_weapon_deagle               122410 non-null  float64\n 74  ct_weapon_fiveseven           122410 non-null  float64\n 75  t_weapon_fiveseven            122410 non-null  float64\n 76  ct_weapon_usps                122410 non-null  float64\n 77  t_weapon_usps                 122410 non-null  float64\n 78  ct_weapon_p250                122410 non-null  float64\n 79  t_weapon_p250                 122410 non-null  float64\n 80  ct_weapon_p2000               122410 non-null  float64\n 81  t_weapon_p2000                122410 non-null  float64\n 82  ct_weapon_tec9                122410 non-null  float64\n 83  t_weapon_tec9                 122410 non-null  float64\n 84  ct_grenade_hegrenade          122410 non-null  float64\n 85  t_grenade_hegrenade           122410 non-null  float64\n 86  ct_grenade_flashbang          122410 non-null  float64\n 87  t_grenade_flashbang           122410 non-null  float64\n 88  ct_grenade_smokegrenade       122410 non-null  float64\n 89  t_grenade_smokegrenade        122410 non-null  float64\n 90  ct_grenade_incendiarygrenade  122410 non-null  float64\n 91  t_grenade_incendiarygrenade   122410 non-null  float64\n 92  ct_grenade_molotovgrenade     122410 non-null  float64\n 93  t_grenade_molotovgrenade      122410 non-null  float64\n 94  ct_grenade_decoygrenade       122410 non-null  float64\n 95  t_grenade_decoygrenade        122410 non-null  float64\n 96  round_winner                  122410 non-null  object \ndtypes: bool(1), float64(94), object(2)\nmemory usage: 89.8+ MB\n"
    }
   ]
  },
  {
   "cell_type": "code",
   "execution_count": 46,
   "metadata": {},
   "outputs": [
    {
     "output_type": "execute_result",
     "data": {
      "text/plain": "   time_left  ct_score  t_score       map  bomb_planted  ct_health  t_health  \\\n0     175.00       0.0      0.0  de_dust2         False      500.0     500.0   \n1     156.03       0.0      0.0  de_dust2         False      500.0     500.0   \n2      96.03       0.0      0.0  de_dust2         False      391.0     400.0   \n3      76.03       0.0      0.0  de_dust2         False      391.0     400.0   \n4     174.97       1.0      0.0  de_dust2         False      500.0     500.0   \n\n   ct_armor  t_armor  ct_money  ...  t_grenade_flashbang  \\\n0       0.0      0.0    4000.0  ...                  0.0   \n1     400.0    300.0     600.0  ...                  0.0   \n2     294.0    200.0     750.0  ...                  0.0   \n3     294.0    200.0     750.0  ...                  0.0   \n4     192.0      0.0   18350.0  ...                  0.0   \n\n   ct_grenade_smokegrenade  t_grenade_smokegrenade  \\\n0                      0.0                     0.0   \n1                      0.0                     2.0   \n2                      0.0                     2.0   \n3                      0.0                     0.0   \n4                      0.0                     0.0   \n\n   ct_grenade_incendiarygrenade  t_grenade_incendiarygrenade  \\\n0                           0.0                          0.0   \n1                           0.0                          0.0   \n2                           0.0                          0.0   \n3                           0.0                          0.0   \n4                           0.0                          0.0   \n\n   ct_grenade_molotovgrenade  t_grenade_molotovgrenade  \\\n0                        0.0                       0.0   \n1                        0.0                       0.0   \n2                        0.0                       0.0   \n3                        0.0                       0.0   \n4                        0.0                       0.0   \n\n   ct_grenade_decoygrenade  t_grenade_decoygrenade  round_winner  \n0                      0.0                     0.0            CT  \n1                      0.0                     0.0            CT  \n2                      0.0                     0.0            CT  \n3                      0.0                     0.0            CT  \n4                      0.0                     0.0            CT  \n\n[5 rows x 97 columns]",
      "text/html": "<div>\n<style scoped>\n    .dataframe tbody tr th:only-of-type {\n        vertical-align: middle;\n    }\n\n    .dataframe tbody tr th {\n        vertical-align: top;\n    }\n\n    .dataframe thead th {\n        text-align: right;\n    }\n</style>\n<table border=\"1\" class=\"dataframe\">\n  <thead>\n    <tr style=\"text-align: right;\">\n      <th></th>\n      <th>time_left</th>\n      <th>ct_score</th>\n      <th>t_score</th>\n      <th>map</th>\n      <th>bomb_planted</th>\n      <th>ct_health</th>\n      <th>t_health</th>\n      <th>ct_armor</th>\n      <th>t_armor</th>\n      <th>ct_money</th>\n      <th>...</th>\n      <th>t_grenade_flashbang</th>\n      <th>ct_grenade_smokegrenade</th>\n      <th>t_grenade_smokegrenade</th>\n      <th>ct_grenade_incendiarygrenade</th>\n      <th>t_grenade_incendiarygrenade</th>\n      <th>ct_grenade_molotovgrenade</th>\n      <th>t_grenade_molotovgrenade</th>\n      <th>ct_grenade_decoygrenade</th>\n      <th>t_grenade_decoygrenade</th>\n      <th>round_winner</th>\n    </tr>\n  </thead>\n  <tbody>\n    <tr>\n      <th>0</th>\n      <td>175.00</td>\n      <td>0.0</td>\n      <td>0.0</td>\n      <td>de_dust2</td>\n      <td>False</td>\n      <td>500.0</td>\n      <td>500.0</td>\n      <td>0.0</td>\n      <td>0.0</td>\n      <td>4000.0</td>\n      <td>...</td>\n      <td>0.0</td>\n      <td>0.0</td>\n      <td>0.0</td>\n      <td>0.0</td>\n      <td>0.0</td>\n      <td>0.0</td>\n      <td>0.0</td>\n      <td>0.0</td>\n      <td>0.0</td>\n      <td>CT</td>\n    </tr>\n    <tr>\n      <th>1</th>\n      <td>156.03</td>\n      <td>0.0</td>\n      <td>0.0</td>\n      <td>de_dust2</td>\n      <td>False</td>\n      <td>500.0</td>\n      <td>500.0</td>\n      <td>400.0</td>\n      <td>300.0</td>\n      <td>600.0</td>\n      <td>...</td>\n      <td>0.0</td>\n      <td>0.0</td>\n      <td>2.0</td>\n      <td>0.0</td>\n      <td>0.0</td>\n      <td>0.0</td>\n      <td>0.0</td>\n      <td>0.0</td>\n      <td>0.0</td>\n      <td>CT</td>\n    </tr>\n    <tr>\n      <th>2</th>\n      <td>96.03</td>\n      <td>0.0</td>\n      <td>0.0</td>\n      <td>de_dust2</td>\n      <td>False</td>\n      <td>391.0</td>\n      <td>400.0</td>\n      <td>294.0</td>\n      <td>200.0</td>\n      <td>750.0</td>\n      <td>...</td>\n      <td>0.0</td>\n      <td>0.0</td>\n      <td>2.0</td>\n      <td>0.0</td>\n      <td>0.0</td>\n      <td>0.0</td>\n      <td>0.0</td>\n      <td>0.0</td>\n      <td>0.0</td>\n      <td>CT</td>\n    </tr>\n    <tr>\n      <th>3</th>\n      <td>76.03</td>\n      <td>0.0</td>\n      <td>0.0</td>\n      <td>de_dust2</td>\n      <td>False</td>\n      <td>391.0</td>\n      <td>400.0</td>\n      <td>294.0</td>\n      <td>200.0</td>\n      <td>750.0</td>\n      <td>...</td>\n      <td>0.0</td>\n      <td>0.0</td>\n      <td>0.0</td>\n      <td>0.0</td>\n      <td>0.0</td>\n      <td>0.0</td>\n      <td>0.0</td>\n      <td>0.0</td>\n      <td>0.0</td>\n      <td>CT</td>\n    </tr>\n    <tr>\n      <th>4</th>\n      <td>174.97</td>\n      <td>1.0</td>\n      <td>0.0</td>\n      <td>de_dust2</td>\n      <td>False</td>\n      <td>500.0</td>\n      <td>500.0</td>\n      <td>192.0</td>\n      <td>0.0</td>\n      <td>18350.0</td>\n      <td>...</td>\n      <td>0.0</td>\n      <td>0.0</td>\n      <td>0.0</td>\n      <td>0.0</td>\n      <td>0.0</td>\n      <td>0.0</td>\n      <td>0.0</td>\n      <td>0.0</td>\n      <td>0.0</td>\n      <td>CT</td>\n    </tr>\n  </tbody>\n</table>\n<p>5 rows × 97 columns</p>\n</div>"
     },
     "metadata": {},
     "execution_count": 46
    }
   ],
   "source": [
    "df_csgo.head()"
   ]
  },
  {
   "source": [
    "### On retire la colonne 'map' qui est de type string (+ la carte n'a peu d'importance sur la victoire d'un round)\n",
    "### Et DropNA pour s'assurer de ne pas avoir de valeur nulle"
   ],
   "cell_type": "markdown",
   "metadata": {}
  },
  {
   "cell_type": "code",
   "execution_count": 3,
   "metadata": {},
   "outputs": [],
   "source": [
    "df_csgo = df_csgo.drop('map', axis='columns')"
   ]
  },
  {
   "cell_type": "code",
   "execution_count": 4,
   "metadata": {},
   "outputs": [],
   "source": [
    "df_csgo = df_csgo.dropna()"
   ]
  },
  {
   "source": [
    "### Séparation des FEATURES de la TARGET\n",
    "#### La target étant \"round_winner\" et les features tout le reste"
   ],
   "cell_type": "markdown",
   "metadata": {}
  },
  {
   "cell_type": "code",
   "execution_count": 5,
   "metadata": {},
   "outputs": [],
   "source": [
    "X = df_csgo.drop('round_winner', axis=\"columns\")\n",
    "Y = df_csgo['round_winner'].astype('category').cat.codes"
   ]
  },
  {
   "source": [
    "### Puis on affiche les shape de X et Y"
   ],
   "cell_type": "markdown",
   "metadata": {}
  },
  {
   "cell_type": "code",
   "execution_count": 6,
   "metadata": {},
   "outputs": [
    {
     "output_type": "execute_result",
     "data": {
      "text/plain": "((122410, 95), (122410,))"
     },
     "metadata": {},
     "execution_count": 6
    }
   ],
   "source": [
    "X.shape, Y.shape"
   ]
  },
  {
   "source": [
    "### Train Test Split"
   ],
   "cell_type": "markdown",
   "metadata": {}
  },
  {
   "cell_type": "code",
   "execution_count": 7,
   "metadata": {},
   "outputs": [],
   "source": [
    "#Import de train_test_split depuis sklearn\n",
    "from sklearn.model_selection import train_test_split\n",
    "\n",
    "splits = train_test_split (X, Y, train_size=0.35, stratify=Y, random_state=25)\n",
    "\n",
    "xTrain, xTest, yTrain, yTest = splits"
   ]
  },
  {
   "source": [
    "### Définition de la méthode d'accuracy"
   ],
   "cell_type": "markdown",
   "metadata": {}
  },
  {
   "cell_type": "code",
   "execution_count": 8,
   "metadata": {},
   "outputs": [],
   "source": [
    "def accuracy(preds, target):\n",
    "    return (preds == target).sum() / len(target)"
   ]
  },
  {
   "source": [
    "### Calcul de l'accuracy avec KNearestNeighbors"
   ],
   "cell_type": "markdown",
   "metadata": {}
  },
  {
   "source": [
    "#### Train du model"
   ],
   "cell_type": "markdown",
   "metadata": {}
  },
  {
   "cell_type": "code",
   "execution_count": 9,
   "metadata": {},
   "outputs": [
    {
     "output_type": "execute_result",
     "data": {
      "text/plain": "KNeighborsClassifier(n_neighbors=1)"
     },
     "metadata": {},
     "execution_count": 9
    }
   ],
   "source": [
    "from sklearn.neighbors import KNeighborsClassifier as KNN\n",
    "\n",
    "knn = KNN(n_neighbors=1)\n",
    "\n",
    "knn.fit(xTrain, yTrain)"
   ]
  },
  {
   "source": [
    "#### Predict et affichage de l'accuracy"
   ],
   "cell_type": "markdown",
   "metadata": {}
  },
  {
   "cell_type": "code",
   "execution_count": 10,
   "metadata": {
    "tags": []
   },
   "outputs": [
    {
     "output_type": "stream",
     "name": "stdout",
     "text": "0.7501225382382143\n"
    }
   ],
   "source": [
    "preds = knn.predict(xTest)\n",
    "print(accuracy(preds, yTest))"
   ]
  },
  {
   "source": [
    "### Calcul de l'acuracy avec SVC"
   ],
   "cell_type": "markdown",
   "metadata": {}
  },
  {
   "cell_type": "code",
   "execution_count": 11,
   "metadata": {},
   "outputs": [],
   "source": [
    "from sklearn.svm import SVC\n",
    "\n",
    "svc = SVC()\n",
    "\n",
    "svc.fit(xTrain, yTrain)"
   ]
  },
  {
   "cell_type": "code",
   "execution_count": null,
   "metadata": {},
   "outputs": [],
   "source": [
    "preds = svc.predict(xTest)\n",
    "accuracy(preds, yTest)"
   ]
  },
  {
   "cell_type": "code",
   "execution_count": null,
   "metadata": {},
   "outputs": [],
   "source": []
  }
 ]
}