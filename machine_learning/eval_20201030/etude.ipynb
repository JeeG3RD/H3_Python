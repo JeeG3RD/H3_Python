{
 "metadata": {
  "language_info": {
   "codemirror_mode": {
    "name": "ipython",
    "version": 3
   },
   "file_extension": ".py",
   "mimetype": "text/x-python",
   "name": "python",
   "nbconvert_exporter": "python",
   "pygments_lexer": "ipython3",
   "version": "3.8.5-final"
  },
  "orig_nbformat": 2,
  "kernelspec": {
   "name": "Python 3.8.5 64-bit",
   "display_name": "Python 3.8.5 64-bit",
   "metadata": {
    "interpreter": {
     "hash": "767d51c1340bd893661ea55ea3124f6de3c7a262a8b4abca0554b478b1e2ff90"
    }
   }
  }
 },
 "nbformat": 4,
 "nbformat_minor": 2,
 "cells": [
  {
   "cell_type": "code",
   "execution_count": 1,
   "metadata": {},
   "outputs": [],
   "source": [
    "import seaborn as sns\n",
    "import pandas as pd\n",
    "import numpy as np"
   ]
  },
  {
   "source": [
    "#### Lien du dataset\n",
    "https://www.kaggle.com/cityofLA/la-restaurant-market-health-data"
   ],
   "cell_type": "markdown",
   "metadata": {}
  },
  {
   "source": [
    "### Import des 2 datasets de Restaurant Market Health"
   ],
   "cell_type": "markdown",
   "metadata": {}
  },
  {
   "cell_type": "code",
   "execution_count": 2,
   "metadata": {},
   "outputs": [
    {
     "output_type": "stream",
     "name": "stdout",
     "text": [
      "<class 'pandas.core.frame.DataFrame'>\nRangeIndex: 67573 entries, 0 to 67572\nData columns (total 20 columns):\n #   Column               Non-Null Count  Dtype \n---  ------               --------------  ----- \n 0   serial_number        67573 non-null  object\n 1   activity_date        67573 non-null  object\n 2   facility_name        67573 non-null  object\n 3   score                67573 non-null  int64 \n 4   grade                67570 non-null  object\n 5   service_code         67573 non-null  int64 \n 6   service_description  67573 non-null  object\n 7   employee_id          67573 non-null  object\n 8   facility_address     67573 non-null  object\n 9   facility_city        67573 non-null  object\n 10  facility_id          67573 non-null  object\n 11  facility_state       67573 non-null  object\n 12  facility_zip         67573 non-null  object\n 13  owner_id             67573 non-null  object\n 14  owner_name           67573 non-null  object\n 15  pe_description       67573 non-null  object\n 16  program_element_pe   67573 non-null  int64 \n 17  program_name         67544 non-null  object\n 18  program_status       67573 non-null  object\n 19  record_id            67573 non-null  object\ndtypes: int64(3), object(17)\nmemory usage: 10.3+ MB\n"
     ]
    }
   ],
   "source": [
    "df_inspections = pd.read_csv(\"csv_files/restaurant-and-market-health-inspections.csv\")\n",
    "\n",
    "df_inspections.info()"
   ]
  },
  {
   "cell_type": "code",
   "execution_count": 4,
   "metadata": {},
   "outputs": [
    {
     "output_type": "execute_result",
     "data": {
      "text/plain": [
       "  serial_number            activity_date        facility_name  score grade  \\\n",
       "0     DAJ00E07B  2017-12-29T00:00:00.000  HABITAT COFFEE SHOP     95     A   \n",
       "1     DAQOKRFZB  2017-12-29T00:00:00.000             REILLY'S     92     A   \n",
       "2     DASJI4LUR  2017-12-29T00:00:00.000       STREET CHURROS     93     A   \n",
       "3     DA40LU5AT  2017-12-29T00:00:00.000    TRINITI ECHO PARK     94     A   \n",
       "4     DAXV2RMYC  2017-12-29T00:00:00.000               POLLEN     94     A   \n",
       "5     DAMV56BMJ  2017-12-29T00:00:00.000       THE SPOT GRILL     93     A   \n",
       "6     DAKSJB0AB  2017-12-29T00:00:00.000     7 ELEVEN #37215A     95     A   \n",
       "7     DAQOJLNCD  2017-12-29T00:00:00.000                  CPK     91     A   \n",
       "8     DAACRFWTS  2017-12-29T00:00:00.000             PHO LALA     95     A   \n",
       "9     DAE1JXAWW  2017-12-29T00:00:00.000           ABC DONUTS     91     A   \n",
       "\n",
       "   service_code service_description employee_id  \\\n",
       "0             1  ROUTINE INSPECTION   EE0000923   \n",
       "1             1  ROUTINE INSPECTION   EE0000633   \n",
       "2             1  ROUTINE INSPECTION   EE0000835   \n",
       "3             1  ROUTINE INSPECTION   EE0000923   \n",
       "4             1  ROUTINE INSPECTION   EE0000923   \n",
       "5             1  ROUTINE INSPECTION   EE0000727   \n",
       "6             1  ROUTINE INSPECTION   EE0000839   \n",
       "7             1  ROUTINE INSPECTION   EE0000633   \n",
       "8             1  ROUTINE INSPECTION   EE0000699   \n",
       "9             1  ROUTINE INSPECTION   EE0000923   \n",
       "\n",
       "                  facility_address facility_city facility_id facility_state  \\\n",
       "0           3708 N EAGLE ROCK BLVD   LOS ANGELES   FA0170465             CA   \n",
       "1              100 WORLD WAY # 120   LOS ANGELES   FA0244690             CA   \n",
       "2        6801 HOLLYWOOD BLVD # 253   LOS ANGELES   FA0224109             CA   \n",
       "3               1814 W SUNSET BLVD   LOS ANGELES   FA0252528             CA   \n",
       "4               2100 ECHO PARK AVE   LOS ANGELES   FA0252789             CA   \n",
       "5              10004 NATIONAL BLVD   LOS ANGELES   FA0245224             CA   \n",
       "6              3330 W FLORENCE AVE   LOS ANGELES   FA0243779             CA   \n",
       "7              100 WORLD WAY # 126   LOS ANGELES   FA0225926             CA   \n",
       "8            3500 W 6TH ST STE 226   LOS ANGELES   FA0248964             CA   \n",
       "9  3027 N SAN FERNANDO RD UNIT 103   LOS ANGELES   FA0002761             CA   \n",
       "\n",
       "  facility_zip   owner_id                 owner_name  \\\n",
       "0        90065  OW0178123   GLASSELL COFFEE SHOP LLC   \n",
       "1        90045  OW0208441  AREAS SKYVIEW LAX JV, LLC   \n",
       "2        90028  OW0228670         STREETCHURROS, INC   \n",
       "3   90026-3227  OW0246287       AMERICAN HOSPITALITY   \n",
       "4        90026  OW0246479    POLLEN AND PASTRY , LLC   \n",
       "5        90034  OW0240313            LIQUOR CLUB INC   \n",
       "6   90043-4706  OW0239028    S & U INVESTMENTS, INC.   \n",
       "7        90045  OW0208441  AREAS SKYVIEW LAX JV, LLC   \n",
       "8        90020  OW0243289             VANILLA #, INC   \n",
       "9        90065  OW0026313           NOUNG, SAING HOW   \n",
       "\n",
       "                          pe_description  program_element_pe  \\\n",
       "0  RESTAURANT (0-30) SEATS MODERATE RISK                1631   \n",
       "1  RESTAURANT (0-30) SEATS MODERATE RISK                1631   \n",
       "2       RESTAURANT (0-30) SEATS LOW RISK                1630   \n",
       "3  RESTAURANT (0-30) SEATS MODERATE RISK                1631   \n",
       "4  RESTAURANT (0-30) SEATS MODERATE RISK                1631   \n",
       "5      RESTAURANT (0-30) SEATS HIGH RISK                1632   \n",
       "6   FOOD MKT RETAIL (2,000+ SF) LOW RISK                1613   \n",
       "7    RESTAURANT (61-150) SEATS HIGH RISK                1638   \n",
       "8      RESTAURANT (0-30) SEATS HIGH RISK                1632   \n",
       "9  RESTAURANT (0-30) SEATS MODERATE RISK                1631   \n",
       "\n",
       "          program_name program_status  record_id  \n",
       "0  HABITAT COFFEE SHOP         ACTIVE  PR0160774  \n",
       "1             REILLY'S         ACTIVE  PR0193026  \n",
       "2       STREET CHURROS         ACTIVE  PR0179282  \n",
       "3    TRINITI ECHO PARK         ACTIVE  PR0201836  \n",
       "4               POLLEN         ACTIVE  PR0202148  \n",
       "5       THE SPOT GRILL       INACTIVE  PR0193589  \n",
       "6     7 ELEVEN #37215A         ACTIVE  PR0192029  \n",
       "7                  CPK         ACTIVE  PR0181243  \n",
       "8             PHO LALA         ACTIVE  PR0197670  \n",
       "9           ABC DONUTS         ACTIVE  PR0045001  "
      ],
      "text/html": "<div>\n<style scoped>\n    .dataframe tbody tr th:only-of-type {\n        vertical-align: middle;\n    }\n\n    .dataframe tbody tr th {\n        vertical-align: top;\n    }\n\n    .dataframe thead th {\n        text-align: right;\n    }\n</style>\n<table border=\"1\" class=\"dataframe\">\n  <thead>\n    <tr style=\"text-align: right;\">\n      <th></th>\n      <th>serial_number</th>\n      <th>activity_date</th>\n      <th>facility_name</th>\n      <th>score</th>\n      <th>grade</th>\n      <th>service_code</th>\n      <th>service_description</th>\n      <th>employee_id</th>\n      <th>facility_address</th>\n      <th>facility_city</th>\n      <th>facility_id</th>\n      <th>facility_state</th>\n      <th>facility_zip</th>\n      <th>owner_id</th>\n      <th>owner_name</th>\n      <th>pe_description</th>\n      <th>program_element_pe</th>\n      <th>program_name</th>\n      <th>program_status</th>\n      <th>record_id</th>\n    </tr>\n  </thead>\n  <tbody>\n    <tr>\n      <th>0</th>\n      <td>DAJ00E07B</td>\n      <td>2017-12-29T00:00:00.000</td>\n      <td>HABITAT COFFEE SHOP</td>\n      <td>95</td>\n      <td>A</td>\n      <td>1</td>\n      <td>ROUTINE INSPECTION</td>\n      <td>EE0000923</td>\n      <td>3708 N EAGLE ROCK BLVD</td>\n      <td>LOS ANGELES</td>\n      <td>FA0170465</td>\n      <td>CA</td>\n      <td>90065</td>\n      <td>OW0178123</td>\n      <td>GLASSELL COFFEE SHOP LLC</td>\n      <td>RESTAURANT (0-30) SEATS MODERATE RISK</td>\n      <td>1631</td>\n      <td>HABITAT COFFEE SHOP</td>\n      <td>ACTIVE</td>\n      <td>PR0160774</td>\n    </tr>\n    <tr>\n      <th>1</th>\n      <td>DAQOKRFZB</td>\n      <td>2017-12-29T00:00:00.000</td>\n      <td>REILLY'S</td>\n      <td>92</td>\n      <td>A</td>\n      <td>1</td>\n      <td>ROUTINE INSPECTION</td>\n      <td>EE0000633</td>\n      <td>100 WORLD WAY # 120</td>\n      <td>LOS ANGELES</td>\n      <td>FA0244690</td>\n      <td>CA</td>\n      <td>90045</td>\n      <td>OW0208441</td>\n      <td>AREAS SKYVIEW LAX JV, LLC</td>\n      <td>RESTAURANT (0-30) SEATS MODERATE RISK</td>\n      <td>1631</td>\n      <td>REILLY'S</td>\n      <td>ACTIVE</td>\n      <td>PR0193026</td>\n    </tr>\n    <tr>\n      <th>2</th>\n      <td>DASJI4LUR</td>\n      <td>2017-12-29T00:00:00.000</td>\n      <td>STREET CHURROS</td>\n      <td>93</td>\n      <td>A</td>\n      <td>1</td>\n      <td>ROUTINE INSPECTION</td>\n      <td>EE0000835</td>\n      <td>6801 HOLLYWOOD BLVD # 253</td>\n      <td>LOS ANGELES</td>\n      <td>FA0224109</td>\n      <td>CA</td>\n      <td>90028</td>\n      <td>OW0228670</td>\n      <td>STREETCHURROS, INC</td>\n      <td>RESTAURANT (0-30) SEATS LOW RISK</td>\n      <td>1630</td>\n      <td>STREET CHURROS</td>\n      <td>ACTIVE</td>\n      <td>PR0179282</td>\n    </tr>\n    <tr>\n      <th>3</th>\n      <td>DA40LU5AT</td>\n      <td>2017-12-29T00:00:00.000</td>\n      <td>TRINITI ECHO PARK</td>\n      <td>94</td>\n      <td>A</td>\n      <td>1</td>\n      <td>ROUTINE INSPECTION</td>\n      <td>EE0000923</td>\n      <td>1814 W SUNSET BLVD</td>\n      <td>LOS ANGELES</td>\n      <td>FA0252528</td>\n      <td>CA</td>\n      <td>90026-3227</td>\n      <td>OW0246287</td>\n      <td>AMERICAN HOSPITALITY</td>\n      <td>RESTAURANT (0-30) SEATS MODERATE RISK</td>\n      <td>1631</td>\n      <td>TRINITI ECHO PARK</td>\n      <td>ACTIVE</td>\n      <td>PR0201836</td>\n    </tr>\n    <tr>\n      <th>4</th>\n      <td>DAXV2RMYC</td>\n      <td>2017-12-29T00:00:00.000</td>\n      <td>POLLEN</td>\n      <td>94</td>\n      <td>A</td>\n      <td>1</td>\n      <td>ROUTINE INSPECTION</td>\n      <td>EE0000923</td>\n      <td>2100 ECHO PARK AVE</td>\n      <td>LOS ANGELES</td>\n      <td>FA0252789</td>\n      <td>CA</td>\n      <td>90026</td>\n      <td>OW0246479</td>\n      <td>POLLEN AND PASTRY , LLC</td>\n      <td>RESTAURANT (0-30) SEATS MODERATE RISK</td>\n      <td>1631</td>\n      <td>POLLEN</td>\n      <td>ACTIVE</td>\n      <td>PR0202148</td>\n    </tr>\n    <tr>\n      <th>5</th>\n      <td>DAMV56BMJ</td>\n      <td>2017-12-29T00:00:00.000</td>\n      <td>THE SPOT GRILL</td>\n      <td>93</td>\n      <td>A</td>\n      <td>1</td>\n      <td>ROUTINE INSPECTION</td>\n      <td>EE0000727</td>\n      <td>10004 NATIONAL BLVD</td>\n      <td>LOS ANGELES</td>\n      <td>FA0245224</td>\n      <td>CA</td>\n      <td>90034</td>\n      <td>OW0240313</td>\n      <td>LIQUOR CLUB INC</td>\n      <td>RESTAURANT (0-30) SEATS HIGH RISK</td>\n      <td>1632</td>\n      <td>THE SPOT GRILL</td>\n      <td>INACTIVE</td>\n      <td>PR0193589</td>\n    </tr>\n    <tr>\n      <th>6</th>\n      <td>DAKSJB0AB</td>\n      <td>2017-12-29T00:00:00.000</td>\n      <td>7 ELEVEN #37215A</td>\n      <td>95</td>\n      <td>A</td>\n      <td>1</td>\n      <td>ROUTINE INSPECTION</td>\n      <td>EE0000839</td>\n      <td>3330 W FLORENCE AVE</td>\n      <td>LOS ANGELES</td>\n      <td>FA0243779</td>\n      <td>CA</td>\n      <td>90043-4706</td>\n      <td>OW0239028</td>\n      <td>S &amp; U INVESTMENTS, INC.</td>\n      <td>FOOD MKT RETAIL (2,000+ SF) LOW RISK</td>\n      <td>1613</td>\n      <td>7 ELEVEN #37215A</td>\n      <td>ACTIVE</td>\n      <td>PR0192029</td>\n    </tr>\n    <tr>\n      <th>7</th>\n      <td>DAQOJLNCD</td>\n      <td>2017-12-29T00:00:00.000</td>\n      <td>CPK</td>\n      <td>91</td>\n      <td>A</td>\n      <td>1</td>\n      <td>ROUTINE INSPECTION</td>\n      <td>EE0000633</td>\n      <td>100 WORLD WAY # 126</td>\n      <td>LOS ANGELES</td>\n      <td>FA0225926</td>\n      <td>CA</td>\n      <td>90045</td>\n      <td>OW0208441</td>\n      <td>AREAS SKYVIEW LAX JV, LLC</td>\n      <td>RESTAURANT (61-150) SEATS HIGH RISK</td>\n      <td>1638</td>\n      <td>CPK</td>\n      <td>ACTIVE</td>\n      <td>PR0181243</td>\n    </tr>\n    <tr>\n      <th>8</th>\n      <td>DAACRFWTS</td>\n      <td>2017-12-29T00:00:00.000</td>\n      <td>PHO LALA</td>\n      <td>95</td>\n      <td>A</td>\n      <td>1</td>\n      <td>ROUTINE INSPECTION</td>\n      <td>EE0000699</td>\n      <td>3500 W 6TH ST STE 226</td>\n      <td>LOS ANGELES</td>\n      <td>FA0248964</td>\n      <td>CA</td>\n      <td>90020</td>\n      <td>OW0243289</td>\n      <td>VANILLA #, INC</td>\n      <td>RESTAURANT (0-30) SEATS HIGH RISK</td>\n      <td>1632</td>\n      <td>PHO LALA</td>\n      <td>ACTIVE</td>\n      <td>PR0197670</td>\n    </tr>\n    <tr>\n      <th>9</th>\n      <td>DAE1JXAWW</td>\n      <td>2017-12-29T00:00:00.000</td>\n      <td>ABC DONUTS</td>\n      <td>91</td>\n      <td>A</td>\n      <td>1</td>\n      <td>ROUTINE INSPECTION</td>\n      <td>EE0000923</td>\n      <td>3027 N SAN FERNANDO RD UNIT 103</td>\n      <td>LOS ANGELES</td>\n      <td>FA0002761</td>\n      <td>CA</td>\n      <td>90065</td>\n      <td>OW0026313</td>\n      <td>NOUNG, SAING HOW</td>\n      <td>RESTAURANT (0-30) SEATS MODERATE RISK</td>\n      <td>1631</td>\n      <td>ABC DONUTS</td>\n      <td>ACTIVE</td>\n      <td>PR0045001</td>\n    </tr>\n  </tbody>\n</table>\n</div>"
     },
     "metadata": {},
     "execution_count": 4
    }
   ],
   "source": [
    "df_inspections.head(10)"
   ]
  },
  {
   "cell_type": "code",
   "execution_count": 3,
   "metadata": {},
   "outputs": [
    {
     "output_type": "stream",
     "name": "stdout",
     "text": [
      "<class 'pandas.core.frame.DataFrame'>\nRangeIndex: 313675 entries, 0 to 313674\nData columns (total 25 columns):\n #   Column                 Non-Null Count   Dtype \n---  ------                 --------------   ----- \n 0   serial_number          313675 non-null  object\n 1   activity_date          313675 non-null  object\n 2   facility_name          313675 non-null  object\n 3   violation_code         313675 non-null  object\n 4   violation_description  313675 non-null  object\n 5   violation_status       313675 non-null  object\n 6   points                 313675 non-null  int64 \n 7   grade                  313618 non-null  object\n 8   facility_address       313675 non-null  object\n 9   facility_city          313675 non-null  object\n 10  facility_id            313675 non-null  object\n 11  facility_state         313675 non-null  object\n 12  facility_zip           313675 non-null  object\n 13  employee_id            313675 non-null  object\n 14  owner_id               313675 non-null  object\n 15  owner_name             313675 non-null  object\n 16  pe_description         313675 non-null  object\n 17  program_element_pe     313675 non-null  int64 \n 18  program_name           313557 non-null  object\n 19  program_status         313675 non-null  object\n 20  record_id              313675 non-null  object\n 21  score                  313675 non-null  int64 \n 22  service_code           313675 non-null  int64 \n 23  service_description    313675 non-null  object\n 24  row_id                 313675 non-null  object\ndtypes: int64(4), object(21)\nmemory usage: 59.8+ MB\n"
     ]
    }
   ],
   "source": [
    "df_violations = pd.read_csv(\"csv_files/restaurant-and-market-health-violations.csv\")\n",
    "\n",
    "df_violations.info()"
   ]
  },
  {
   "cell_type": "code",
   "execution_count": 5,
   "metadata": {},
   "outputs": [
    {
     "output_type": "execute_result",
     "data": {
      "text/plain": [
       "  serial_number            activity_date               facility_name  \\\n",
       "0     DA08R0TCU  2018-03-30T00:00:00.000                 KRUANG TEDD   \n",
       "1     DA08R0TCU  2018-03-30T00:00:00.000                 KRUANG TEDD   \n",
       "2     DA08R0TCU  2018-03-30T00:00:00.000                 KRUANG TEDD   \n",
       "3     DA08R0TCU  2018-03-30T00:00:00.000                 KRUANG TEDD   \n",
       "4     DA08R0TCU  2018-03-30T00:00:00.000                 KRUANG TEDD   \n",
       "5     DA08R0TCU  2018-03-30T00:00:00.000                 KRUANG TEDD   \n",
       "6     DA08R0TCU  2018-03-30T00:00:00.000                 KRUANG TEDD   \n",
       "7     DA0GBKW3F  2018-03-30T00:00:00.000  SPROUTS FARMERS MARKET#403   \n",
       "8     DA0GBKW3F  2018-03-30T00:00:00.000  SPROUTS FARMERS MARKET#403   \n",
       "9     DA0GBKW3F  2018-03-30T00:00:00.000  SPROUTS FARMERS MARKET#403   \n",
       "\n",
       "  violation_code                              violation_description  \\\n",
       "0           F030  # 30. Food properly stored; food storage conta...   \n",
       "1           F027                 # 27. Food separated and protected   \n",
       "2           F035  # 35. Equipment/Utensils - approved; installed...   \n",
       "3           F033  # 33. Nonfood-contact surfaces clean and in go...   \n",
       "4           F029  # 29. Toxic substances properly identified, st...   \n",
       "5           F044  # 44. Floors, walls and ceilings: properly bui...   \n",
       "6           F006  # 06. Adequate handwashing facilities supplied...   \n",
       "7           F044  # 44. Floors, walls and ceilings: properly bui...   \n",
       "8           F039      # 39. Wiping cloths: properly used and stored   \n",
       "9           F037  # 37. Adequate ventilation and lighting; desig...   \n",
       "\n",
       "    violation_status  points grade     facility_address facility_city  ...  \\\n",
       "0  OUT OF COMPLIANCE       1     A  5151 HOLLYWOOD BLVD   LOS ANGELES  ...   \n",
       "1  OUT OF COMPLIANCE       1     A  5151 HOLLYWOOD BLVD   LOS ANGELES  ...   \n",
       "2  OUT OF COMPLIANCE       1     A  5151 HOLLYWOOD BLVD   LOS ANGELES  ...   \n",
       "3  OUT OF COMPLIANCE       1     A  5151 HOLLYWOOD BLVD   LOS ANGELES  ...   \n",
       "4  OUT OF COMPLIANCE       1     A  5151 HOLLYWOOD BLVD   LOS ANGELES  ...   \n",
       "5  OUT OF COMPLIANCE       1     A  5151 HOLLYWOOD BLVD   LOS ANGELES  ...   \n",
       "6  OUT OF COMPLIANCE       2     A  5151 HOLLYWOOD BLVD   LOS ANGELES  ...   \n",
       "7  OUT OF COMPLIANCE       1     A     2245 YOSEMITE DR   LOS ANGELES  ...   \n",
       "8  OUT OF COMPLIANCE       1     A     2245 YOSEMITE DR   LOS ANGELES  ...   \n",
       "9  OUT OF COMPLIANCE       1     A     2245 YOSEMITE DR   LOS ANGELES  ...   \n",
       "\n",
       "           owner_name                           pe_description  \\\n",
       "0  5151 HOLLYWOOD LLC       RESTAURANT (31-60) SEATS HIGH RISK   \n",
       "1  5151 HOLLYWOOD LLC       RESTAURANT (31-60) SEATS HIGH RISK   \n",
       "2  5151 HOLLYWOOD LLC       RESTAURANT (31-60) SEATS HIGH RISK   \n",
       "3  5151 HOLLYWOOD LLC       RESTAURANT (31-60) SEATS HIGH RISK   \n",
       "4  5151 HOLLYWOOD LLC       RESTAURANT (31-60) SEATS HIGH RISK   \n",
       "5  5151 HOLLYWOOD LLC       RESTAURANT (31-60) SEATS HIGH RISK   \n",
       "6  5151 HOLLYWOOD LLC       RESTAURANT (31-60) SEATS HIGH RISK   \n",
       "7       SPROUTS, INC.  FOOD MKT RETAIL (25-1,999 SF) HIGH RISK   \n",
       "8       SPROUTS, INC.  FOOD MKT RETAIL (25-1,999 SF) HIGH RISK   \n",
       "9       SPROUTS, INC.  FOOD MKT RETAIL (25-1,999 SF) HIGH RISK   \n",
       "\n",
       "  program_element_pe program_name program_status  record_id score  \\\n",
       "0               1635  KRUANG TEDD         ACTIVE  PR0031205    92   \n",
       "1               1635  KRUANG TEDD         ACTIVE  PR0031205    92   \n",
       "2               1635  KRUANG TEDD         ACTIVE  PR0031205    92   \n",
       "3               1635  KRUANG TEDD         ACTIVE  PR0031205    92   \n",
       "4               1635  KRUANG TEDD         ACTIVE  PR0031205    92   \n",
       "5               1635  KRUANG TEDD         ACTIVE  PR0031205    92   \n",
       "6               1635  KRUANG TEDD         ACTIVE  PR0031205    92   \n",
       "7               1612  MEAT MARKET         ACTIVE  PR0179289    97   \n",
       "8               1612  MEAT MARKET         ACTIVE  PR0179289    97   \n",
       "9               1612  MEAT MARKET         ACTIVE  PR0179289    97   \n",
       "\n",
       "   service_code service_description         row_id  \n",
       "0             1  ROUTINE INSPECTION  DA08R0TCUF030  \n",
       "1             1  ROUTINE INSPECTION  DA08R0TCUF027  \n",
       "2             1  ROUTINE INSPECTION  DA08R0TCUF035  \n",
       "3             1  ROUTINE INSPECTION  DA08R0TCUF033  \n",
       "4             1  ROUTINE INSPECTION  DA08R0TCUF029  \n",
       "5             1  ROUTINE INSPECTION  DA08R0TCUF044  \n",
       "6             1  ROUTINE INSPECTION  DA08R0TCUF006  \n",
       "7             1  ROUTINE INSPECTION  DA0GBKW3FF044  \n",
       "8             1  ROUTINE INSPECTION  DA0GBKW3FF039  \n",
       "9             1  ROUTINE INSPECTION  DA0GBKW3FF037  \n",
       "\n",
       "[10 rows x 25 columns]"
      ],
      "text/html": "<div>\n<style scoped>\n    .dataframe tbody tr th:only-of-type {\n        vertical-align: middle;\n    }\n\n    .dataframe tbody tr th {\n        vertical-align: top;\n    }\n\n    .dataframe thead th {\n        text-align: right;\n    }\n</style>\n<table border=\"1\" class=\"dataframe\">\n  <thead>\n    <tr style=\"text-align: right;\">\n      <th></th>\n      <th>serial_number</th>\n      <th>activity_date</th>\n      <th>facility_name</th>\n      <th>violation_code</th>\n      <th>violation_description</th>\n      <th>violation_status</th>\n      <th>points</th>\n      <th>grade</th>\n      <th>facility_address</th>\n      <th>facility_city</th>\n      <th>...</th>\n      <th>owner_name</th>\n      <th>pe_description</th>\n      <th>program_element_pe</th>\n      <th>program_name</th>\n      <th>program_status</th>\n      <th>record_id</th>\n      <th>score</th>\n      <th>service_code</th>\n      <th>service_description</th>\n      <th>row_id</th>\n    </tr>\n  </thead>\n  <tbody>\n    <tr>\n      <th>0</th>\n      <td>DA08R0TCU</td>\n      <td>2018-03-30T00:00:00.000</td>\n      <td>KRUANG TEDD</td>\n      <td>F030</td>\n      <td># 30. Food properly stored; food storage conta...</td>\n      <td>OUT OF COMPLIANCE</td>\n      <td>1</td>\n      <td>A</td>\n      <td>5151 HOLLYWOOD BLVD</td>\n      <td>LOS ANGELES</td>\n      <td>...</td>\n      <td>5151 HOLLYWOOD LLC</td>\n      <td>RESTAURANT (31-60) SEATS HIGH RISK</td>\n      <td>1635</td>\n      <td>KRUANG TEDD</td>\n      <td>ACTIVE</td>\n      <td>PR0031205</td>\n      <td>92</td>\n      <td>1</td>\n      <td>ROUTINE INSPECTION</td>\n      <td>DA08R0TCUF030</td>\n    </tr>\n    <tr>\n      <th>1</th>\n      <td>DA08R0TCU</td>\n      <td>2018-03-30T00:00:00.000</td>\n      <td>KRUANG TEDD</td>\n      <td>F027</td>\n      <td># 27. Food separated and protected</td>\n      <td>OUT OF COMPLIANCE</td>\n      <td>1</td>\n      <td>A</td>\n      <td>5151 HOLLYWOOD BLVD</td>\n      <td>LOS ANGELES</td>\n      <td>...</td>\n      <td>5151 HOLLYWOOD LLC</td>\n      <td>RESTAURANT (31-60) SEATS HIGH RISK</td>\n      <td>1635</td>\n      <td>KRUANG TEDD</td>\n      <td>ACTIVE</td>\n      <td>PR0031205</td>\n      <td>92</td>\n      <td>1</td>\n      <td>ROUTINE INSPECTION</td>\n      <td>DA08R0TCUF027</td>\n    </tr>\n    <tr>\n      <th>2</th>\n      <td>DA08R0TCU</td>\n      <td>2018-03-30T00:00:00.000</td>\n      <td>KRUANG TEDD</td>\n      <td>F035</td>\n      <td># 35. Equipment/Utensils - approved; installed...</td>\n      <td>OUT OF COMPLIANCE</td>\n      <td>1</td>\n      <td>A</td>\n      <td>5151 HOLLYWOOD BLVD</td>\n      <td>LOS ANGELES</td>\n      <td>...</td>\n      <td>5151 HOLLYWOOD LLC</td>\n      <td>RESTAURANT (31-60) SEATS HIGH RISK</td>\n      <td>1635</td>\n      <td>KRUANG TEDD</td>\n      <td>ACTIVE</td>\n      <td>PR0031205</td>\n      <td>92</td>\n      <td>1</td>\n      <td>ROUTINE INSPECTION</td>\n      <td>DA08R0TCUF035</td>\n    </tr>\n    <tr>\n      <th>3</th>\n      <td>DA08R0TCU</td>\n      <td>2018-03-30T00:00:00.000</td>\n      <td>KRUANG TEDD</td>\n      <td>F033</td>\n      <td># 33. Nonfood-contact surfaces clean and in go...</td>\n      <td>OUT OF COMPLIANCE</td>\n      <td>1</td>\n      <td>A</td>\n      <td>5151 HOLLYWOOD BLVD</td>\n      <td>LOS ANGELES</td>\n      <td>...</td>\n      <td>5151 HOLLYWOOD LLC</td>\n      <td>RESTAURANT (31-60) SEATS HIGH RISK</td>\n      <td>1635</td>\n      <td>KRUANG TEDD</td>\n      <td>ACTIVE</td>\n      <td>PR0031205</td>\n      <td>92</td>\n      <td>1</td>\n      <td>ROUTINE INSPECTION</td>\n      <td>DA08R0TCUF033</td>\n    </tr>\n    <tr>\n      <th>4</th>\n      <td>DA08R0TCU</td>\n      <td>2018-03-30T00:00:00.000</td>\n      <td>KRUANG TEDD</td>\n      <td>F029</td>\n      <td># 29. Toxic substances properly identified, st...</td>\n      <td>OUT OF COMPLIANCE</td>\n      <td>1</td>\n      <td>A</td>\n      <td>5151 HOLLYWOOD BLVD</td>\n      <td>LOS ANGELES</td>\n      <td>...</td>\n      <td>5151 HOLLYWOOD LLC</td>\n      <td>RESTAURANT (31-60) SEATS HIGH RISK</td>\n      <td>1635</td>\n      <td>KRUANG TEDD</td>\n      <td>ACTIVE</td>\n      <td>PR0031205</td>\n      <td>92</td>\n      <td>1</td>\n      <td>ROUTINE INSPECTION</td>\n      <td>DA08R0TCUF029</td>\n    </tr>\n    <tr>\n      <th>5</th>\n      <td>DA08R0TCU</td>\n      <td>2018-03-30T00:00:00.000</td>\n      <td>KRUANG TEDD</td>\n      <td>F044</td>\n      <td># 44. Floors, walls and ceilings: properly bui...</td>\n      <td>OUT OF COMPLIANCE</td>\n      <td>1</td>\n      <td>A</td>\n      <td>5151 HOLLYWOOD BLVD</td>\n      <td>LOS ANGELES</td>\n      <td>...</td>\n      <td>5151 HOLLYWOOD LLC</td>\n      <td>RESTAURANT (31-60) SEATS HIGH RISK</td>\n      <td>1635</td>\n      <td>KRUANG TEDD</td>\n      <td>ACTIVE</td>\n      <td>PR0031205</td>\n      <td>92</td>\n      <td>1</td>\n      <td>ROUTINE INSPECTION</td>\n      <td>DA08R0TCUF044</td>\n    </tr>\n    <tr>\n      <th>6</th>\n      <td>DA08R0TCU</td>\n      <td>2018-03-30T00:00:00.000</td>\n      <td>KRUANG TEDD</td>\n      <td>F006</td>\n      <td># 06. Adequate handwashing facilities supplied...</td>\n      <td>OUT OF COMPLIANCE</td>\n      <td>2</td>\n      <td>A</td>\n      <td>5151 HOLLYWOOD BLVD</td>\n      <td>LOS ANGELES</td>\n      <td>...</td>\n      <td>5151 HOLLYWOOD LLC</td>\n      <td>RESTAURANT (31-60) SEATS HIGH RISK</td>\n      <td>1635</td>\n      <td>KRUANG TEDD</td>\n      <td>ACTIVE</td>\n      <td>PR0031205</td>\n      <td>92</td>\n      <td>1</td>\n      <td>ROUTINE INSPECTION</td>\n      <td>DA08R0TCUF006</td>\n    </tr>\n    <tr>\n      <th>7</th>\n      <td>DA0GBKW3F</td>\n      <td>2018-03-30T00:00:00.000</td>\n      <td>SPROUTS FARMERS MARKET#403</td>\n      <td>F044</td>\n      <td># 44. Floors, walls and ceilings: properly bui...</td>\n      <td>OUT OF COMPLIANCE</td>\n      <td>1</td>\n      <td>A</td>\n      <td>2245 YOSEMITE DR</td>\n      <td>LOS ANGELES</td>\n      <td>...</td>\n      <td>SPROUTS, INC.</td>\n      <td>FOOD MKT RETAIL (25-1,999 SF) HIGH RISK</td>\n      <td>1612</td>\n      <td>MEAT MARKET</td>\n      <td>ACTIVE</td>\n      <td>PR0179289</td>\n      <td>97</td>\n      <td>1</td>\n      <td>ROUTINE INSPECTION</td>\n      <td>DA0GBKW3FF044</td>\n    </tr>\n    <tr>\n      <th>8</th>\n      <td>DA0GBKW3F</td>\n      <td>2018-03-30T00:00:00.000</td>\n      <td>SPROUTS FARMERS MARKET#403</td>\n      <td>F039</td>\n      <td># 39. Wiping cloths: properly used and stored</td>\n      <td>OUT OF COMPLIANCE</td>\n      <td>1</td>\n      <td>A</td>\n      <td>2245 YOSEMITE DR</td>\n      <td>LOS ANGELES</td>\n      <td>...</td>\n      <td>SPROUTS, INC.</td>\n      <td>FOOD MKT RETAIL (25-1,999 SF) HIGH RISK</td>\n      <td>1612</td>\n      <td>MEAT MARKET</td>\n      <td>ACTIVE</td>\n      <td>PR0179289</td>\n      <td>97</td>\n      <td>1</td>\n      <td>ROUTINE INSPECTION</td>\n      <td>DA0GBKW3FF039</td>\n    </tr>\n    <tr>\n      <th>9</th>\n      <td>DA0GBKW3F</td>\n      <td>2018-03-30T00:00:00.000</td>\n      <td>SPROUTS FARMERS MARKET#403</td>\n      <td>F037</td>\n      <td># 37. Adequate ventilation and lighting; desig...</td>\n      <td>OUT OF COMPLIANCE</td>\n      <td>1</td>\n      <td>A</td>\n      <td>2245 YOSEMITE DR</td>\n      <td>LOS ANGELES</td>\n      <td>...</td>\n      <td>SPROUTS, INC.</td>\n      <td>FOOD MKT RETAIL (25-1,999 SF) HIGH RISK</td>\n      <td>1612</td>\n      <td>MEAT MARKET</td>\n      <td>ACTIVE</td>\n      <td>PR0179289</td>\n      <td>97</td>\n      <td>1</td>\n      <td>ROUTINE INSPECTION</td>\n      <td>DA0GBKW3FF037</td>\n    </tr>\n  </tbody>\n</table>\n<p>10 rows × 25 columns</p>\n</div>"
     },
     "metadata": {},
     "execution_count": 5
    }
   ],
   "source": [
    "df_violations.head(10)"
   ]
  },
  {
   "cell_type": "code",
   "execution_count": null,
   "metadata": {},
   "outputs": [],
   "source": []
  }
 ]
}