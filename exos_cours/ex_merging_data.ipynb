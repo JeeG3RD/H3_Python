{
 "metadata": {
  "language_info": {
   "codemirror_mode": {
    "name": "ipython",
    "version": 3
   },
   "file_extension": ".py",
   "mimetype": "text/x-python",
   "name": "python",
   "nbconvert_exporter": "python",
   "pygments_lexer": "ipython3",
   "version": "3.8.2-final"
  },
  "orig_nbformat": 2,
  "kernelspec": {
   "name": "python38264bit0ec9b011c07d4a51a9745b11ed22156f",
   "display_name": "Python 3.8.2 64-bit"
  }
 },
 "nbformat": 4,
 "nbformat_minor": 2,
 "cells": [
  {
   "source": [
    "#Importer Pandas"
   ],
   "cell_type": "markdown",
   "metadata": {}
  },
  {
   "cell_type": "code",
   "execution_count": 2,
   "metadata": {},
   "outputs": [],
   "source": [
    "import pandas as pd"
   ]
  },
  {
   "source": [
    "#Import des dataset"
   ],
   "cell_type": "markdown",
   "metadata": {}
  },
  {
   "cell_type": "code",
   "execution_count": 3,
   "metadata": {},
   "outputs": [],
   "source": [
    "df1 = pd.read_csv(\"csv_files/user_device.csv\")\n",
    "df2 = pd.read_csv(\"csv_files/user_usage.csv\")\n",
    "df3 = pd.read_csv(\"csv_files/android_devices.csv\")"
   ]
  },
  {
   "source": [
    "#Renommer Retail Branding"
   ],
   "cell_type": "markdown",
   "metadata": {}
  },
  {
   "cell_type": "code",
   "execution_count": 47,
   "metadata": {},
   "outputs": [],
   "source": [
    "df3 = df3.rename(columns={'Retail Branding': 'Manufacturer'})\n",
    "df3 = df3.rename(columns={'Device': 'device'})"
   ]
  },
  {
   "source": [
    "#Afficher les dataset"
   ],
   "cell_type": "markdown",
   "metadata": {}
  },
  {
   "cell_type": "code",
   "execution_count": 4,
   "metadata": {},
   "outputs": [
    {
     "output_type": "execute_result",
     "data": {
      "text/plain": "     use_id  user_id platform  platform_version                  device  \\\n0     22782    26980      ios              10.2               iPhone7,2   \n1     22783    29628  android               6.0                 Nexus 5   \n2     22784    28473  android               5.1                SM-G903F   \n3     22785    15200      ios              10.2               iPhone7,2   \n4     22786    28239  android               6.0               ONE E1003   \n..      ...      ...      ...               ...                     ...   \n267   23049    29725  android               6.0                SM-G900F   \n268   23050    29726      ios              10.2               iPhone7,2   \n269   23051    29726      ios              10.2               iPhone7,2   \n270   23052    29727      ios              10.1               iPhone8,4   \n271   23053    20257  android               5.1  Vodafone Smart ultra 6   \n\n     use_type_id  \n0              2  \n1              3  \n2              1  \n3              3  \n4              1  \n..           ...  \n267            1  \n268            3  \n269            3  \n270            3  \n271            1  \n\n[272 rows x 6 columns]",
      "text/html": "<div>\n<style scoped>\n    .dataframe tbody tr th:only-of-type {\n        vertical-align: middle;\n    }\n\n    .dataframe tbody tr th {\n        vertical-align: top;\n    }\n\n    .dataframe thead th {\n        text-align: right;\n    }\n</style>\n<table border=\"1\" class=\"dataframe\">\n  <thead>\n    <tr style=\"text-align: right;\">\n      <th></th>\n      <th>use_id</th>\n      <th>user_id</th>\n      <th>platform</th>\n      <th>platform_version</th>\n      <th>device</th>\n      <th>use_type_id</th>\n    </tr>\n  </thead>\n  <tbody>\n    <tr>\n      <th>0</th>\n      <td>22782</td>\n      <td>26980</td>\n      <td>ios</td>\n      <td>10.2</td>\n      <td>iPhone7,2</td>\n      <td>2</td>\n    </tr>\n    <tr>\n      <th>1</th>\n      <td>22783</td>\n      <td>29628</td>\n      <td>android</td>\n      <td>6.0</td>\n      <td>Nexus 5</td>\n      <td>3</td>\n    </tr>\n    <tr>\n      <th>2</th>\n      <td>22784</td>\n      <td>28473</td>\n      <td>android</td>\n      <td>5.1</td>\n      <td>SM-G903F</td>\n      <td>1</td>\n    </tr>\n    <tr>\n      <th>3</th>\n      <td>22785</td>\n      <td>15200</td>\n      <td>ios</td>\n      <td>10.2</td>\n      <td>iPhone7,2</td>\n      <td>3</td>\n    </tr>\n    <tr>\n      <th>4</th>\n      <td>22786</td>\n      <td>28239</td>\n      <td>android</td>\n      <td>6.0</td>\n      <td>ONE E1003</td>\n      <td>1</td>\n    </tr>\n    <tr>\n      <th>...</th>\n      <td>...</td>\n      <td>...</td>\n      <td>...</td>\n      <td>...</td>\n      <td>...</td>\n      <td>...</td>\n    </tr>\n    <tr>\n      <th>267</th>\n      <td>23049</td>\n      <td>29725</td>\n      <td>android</td>\n      <td>6.0</td>\n      <td>SM-G900F</td>\n      <td>1</td>\n    </tr>\n    <tr>\n      <th>268</th>\n      <td>23050</td>\n      <td>29726</td>\n      <td>ios</td>\n      <td>10.2</td>\n      <td>iPhone7,2</td>\n      <td>3</td>\n    </tr>\n    <tr>\n      <th>269</th>\n      <td>23051</td>\n      <td>29726</td>\n      <td>ios</td>\n      <td>10.2</td>\n      <td>iPhone7,2</td>\n      <td>3</td>\n    </tr>\n    <tr>\n      <th>270</th>\n      <td>23052</td>\n      <td>29727</td>\n      <td>ios</td>\n      <td>10.1</td>\n      <td>iPhone8,4</td>\n      <td>3</td>\n    </tr>\n    <tr>\n      <th>271</th>\n      <td>23053</td>\n      <td>20257</td>\n      <td>android</td>\n      <td>5.1</td>\n      <td>Vodafone Smart ultra 6</td>\n      <td>1</td>\n    </tr>\n  </tbody>\n</table>\n<p>272 rows × 6 columns</p>\n</div>"
     },
     "metadata": {},
     "execution_count": 4
    }
   ],
   "source": [
    "df1"
   ]
  },
  {
   "cell_type": "code",
   "execution_count": 5,
   "metadata": {},
   "outputs": [
    {
     "output_type": "execute_result",
     "data": {
      "text/plain": "     outgoing_mins_per_month  outgoing_sms_per_month  monthly_mb  use_id\n0                      21.97                    4.82     1557.33   22787\n1                    1710.08                  136.88     7267.55   22788\n2                    1710.08                  136.88     7267.55   22789\n3                      94.46                   35.17      519.12   22790\n4                      71.59                   79.26     1557.33   22792\n..                       ...                     ...         ...     ...\n235                   260.66                   68.44      896.96   25008\n236                    97.12                   36.50     2815.00   25040\n237                   355.93                   12.37     6828.09   25046\n238                   632.06                  120.46     1453.16   25058\n239                   488.70                  906.92     3089.85   25220\n\n[240 rows x 4 columns]",
      "text/html": "<div>\n<style scoped>\n    .dataframe tbody tr th:only-of-type {\n        vertical-align: middle;\n    }\n\n    .dataframe tbody tr th {\n        vertical-align: top;\n    }\n\n    .dataframe thead th {\n        text-align: right;\n    }\n</style>\n<table border=\"1\" class=\"dataframe\">\n  <thead>\n    <tr style=\"text-align: right;\">\n      <th></th>\n      <th>outgoing_mins_per_month</th>\n      <th>outgoing_sms_per_month</th>\n      <th>monthly_mb</th>\n      <th>use_id</th>\n    </tr>\n  </thead>\n  <tbody>\n    <tr>\n      <th>0</th>\n      <td>21.97</td>\n      <td>4.82</td>\n      <td>1557.33</td>\n      <td>22787</td>\n    </tr>\n    <tr>\n      <th>1</th>\n      <td>1710.08</td>\n      <td>136.88</td>\n      <td>7267.55</td>\n      <td>22788</td>\n    </tr>\n    <tr>\n      <th>2</th>\n      <td>1710.08</td>\n      <td>136.88</td>\n      <td>7267.55</td>\n      <td>22789</td>\n    </tr>\n    <tr>\n      <th>3</th>\n      <td>94.46</td>\n      <td>35.17</td>\n      <td>519.12</td>\n      <td>22790</td>\n    </tr>\n    <tr>\n      <th>4</th>\n      <td>71.59</td>\n      <td>79.26</td>\n      <td>1557.33</td>\n      <td>22792</td>\n    </tr>\n    <tr>\n      <th>...</th>\n      <td>...</td>\n      <td>...</td>\n      <td>...</td>\n      <td>...</td>\n    </tr>\n    <tr>\n      <th>235</th>\n      <td>260.66</td>\n      <td>68.44</td>\n      <td>896.96</td>\n      <td>25008</td>\n    </tr>\n    <tr>\n      <th>236</th>\n      <td>97.12</td>\n      <td>36.50</td>\n      <td>2815.00</td>\n      <td>25040</td>\n    </tr>\n    <tr>\n      <th>237</th>\n      <td>355.93</td>\n      <td>12.37</td>\n      <td>6828.09</td>\n      <td>25046</td>\n    </tr>\n    <tr>\n      <th>238</th>\n      <td>632.06</td>\n      <td>120.46</td>\n      <td>1453.16</td>\n      <td>25058</td>\n    </tr>\n    <tr>\n      <th>239</th>\n      <td>488.70</td>\n      <td>906.92</td>\n      <td>3089.85</td>\n      <td>25220</td>\n    </tr>\n  </tbody>\n</table>\n<p>240 rows × 4 columns</p>\n</div>"
     },
     "metadata": {},
     "execution_count": 5
    }
   ],
   "source": [
    "df2"
   ]
  },
  {
   "cell_type": "code",
   "execution_count": 25,
   "metadata": {},
   "outputs": [
    {
     "output_type": "execute_result",
     "data": {
      "text/plain": "      Manufacturer Marketing Name       Device                      Model\n0              NaN            NaN       AD681H  Smartfren Andromax AD681H\n1              NaN            NaN        FJL21                      FJL21\n2              NaN            NaN          T31              Panasonic T31\n3              NaN            NaN     hws7721g         MediaPad 7 Youth 2\n4               3Q        OC1020A      OC1020A                    OC1020A\n...            ...            ...          ...                        ...\n14541        pendo    PNDPP44QC10  PNDPP44QC10                PNDPP44QC10\n14542        pendo     PNDPP44QC7   PNDPP44QC7                 PNDPP44QC7\n14543   sugar_aums         QPOINT        QPI-1                      QPI-1\n14544    tecmobile       OmnisOne     OmnisOne                  Omnis One\n14545        ucall          EASY1        EASY1                      EASY1\n\n[14546 rows x 4 columns]",
      "text/html": "<div>\n<style scoped>\n    .dataframe tbody tr th:only-of-type {\n        vertical-align: middle;\n    }\n\n    .dataframe tbody tr th {\n        vertical-align: top;\n    }\n\n    .dataframe thead th {\n        text-align: right;\n    }\n</style>\n<table border=\"1\" class=\"dataframe\">\n  <thead>\n    <tr style=\"text-align: right;\">\n      <th></th>\n      <th>Manufacturer</th>\n      <th>Marketing Name</th>\n      <th>Device</th>\n      <th>Model</th>\n    </tr>\n  </thead>\n  <tbody>\n    <tr>\n      <th>0</th>\n      <td>NaN</td>\n      <td>NaN</td>\n      <td>AD681H</td>\n      <td>Smartfren Andromax AD681H</td>\n    </tr>\n    <tr>\n      <th>1</th>\n      <td>NaN</td>\n      <td>NaN</td>\n      <td>FJL21</td>\n      <td>FJL21</td>\n    </tr>\n    <tr>\n      <th>2</th>\n      <td>NaN</td>\n      <td>NaN</td>\n      <td>T31</td>\n      <td>Panasonic T31</td>\n    </tr>\n    <tr>\n      <th>3</th>\n      <td>NaN</td>\n      <td>NaN</td>\n      <td>hws7721g</td>\n      <td>MediaPad 7 Youth 2</td>\n    </tr>\n    <tr>\n      <th>4</th>\n      <td>3Q</td>\n      <td>OC1020A</td>\n      <td>OC1020A</td>\n      <td>OC1020A</td>\n    </tr>\n    <tr>\n      <th>...</th>\n      <td>...</td>\n      <td>...</td>\n      <td>...</td>\n      <td>...</td>\n    </tr>\n    <tr>\n      <th>14541</th>\n      <td>pendo</td>\n      <td>PNDPP44QC10</td>\n      <td>PNDPP44QC10</td>\n      <td>PNDPP44QC10</td>\n    </tr>\n    <tr>\n      <th>14542</th>\n      <td>pendo</td>\n      <td>PNDPP44QC7</td>\n      <td>PNDPP44QC7</td>\n      <td>PNDPP44QC7</td>\n    </tr>\n    <tr>\n      <th>14543</th>\n      <td>sugar_aums</td>\n      <td>QPOINT</td>\n      <td>QPI-1</td>\n      <td>QPI-1</td>\n    </tr>\n    <tr>\n      <th>14544</th>\n      <td>tecmobile</td>\n      <td>OmnisOne</td>\n      <td>OmnisOne</td>\n      <td>Omnis One</td>\n    </tr>\n    <tr>\n      <th>14545</th>\n      <td>ucall</td>\n      <td>EASY1</td>\n      <td>EASY1</td>\n      <td>EASY1</td>\n    </tr>\n  </tbody>\n</table>\n<p>14546 rows × 4 columns</p>\n</div>"
     },
     "metadata": {},
     "execution_count": 25
    }
   ],
   "source": [
    "df3"
   ]
  },
  {
   "source": [
    "#Le premier Merge"
   ],
   "cell_type": "markdown",
   "metadata": {}
  },
  {
   "cell_type": "code",
   "execution_count": 94,
   "metadata": {},
   "outputs": [
    {
     "output_type": "execute_result",
     "data": {
      "text/plain": "     use_id platform                  device  outgoing_mins_per_month  \\\n0     22787  android                GT-I9505                    21.97   \n1     22788  android                SM-G930F                  1710.08   \n2     22789  android                SM-G930F                  1710.08   \n3     22790  android                   D2303                    94.46   \n4     22792  android                SM-G361F                    71.59   \n..      ...      ...                     ...                      ...   \n154   23043  android                SM-G900F                   198.59   \n155   23044  android                SM-G900F                   198.59   \n156   23046  android              Moto G (4)                   106.65   \n157   23049  android                SM-G900F                   344.53   \n158   23053  android  Vodafone Smart ultra 6                    42.75   \n\n     outgoing_sms_per_month  monthly_mb  \n0                      4.82     1557.33  \n1                    136.88     7267.55  \n2                    136.88     7267.55  \n3                     35.17      519.12  \n4                     79.26     1557.33  \n..                      ...         ...  \n154                   90.49     5191.12  \n155                   90.49     3114.67  \n156                   82.13     5191.12  \n157                   20.53      519.12  \n158                   46.83     5191.12  \n\n[159 rows x 6 columns]",
      "text/html": "<div>\n<style scoped>\n    .dataframe tbody tr th:only-of-type {\n        vertical-align: middle;\n    }\n\n    .dataframe tbody tr th {\n        vertical-align: top;\n    }\n\n    .dataframe thead th {\n        text-align: right;\n    }\n</style>\n<table border=\"1\" class=\"dataframe\">\n  <thead>\n    <tr style=\"text-align: right;\">\n      <th></th>\n      <th>use_id</th>\n      <th>platform</th>\n      <th>device</th>\n      <th>outgoing_mins_per_month</th>\n      <th>outgoing_sms_per_month</th>\n      <th>monthly_mb</th>\n    </tr>\n  </thead>\n  <tbody>\n    <tr>\n      <th>0</th>\n      <td>22787</td>\n      <td>android</td>\n      <td>GT-I9505</td>\n      <td>21.97</td>\n      <td>4.82</td>\n      <td>1557.33</td>\n    </tr>\n    <tr>\n      <th>1</th>\n      <td>22788</td>\n      <td>android</td>\n      <td>SM-G930F</td>\n      <td>1710.08</td>\n      <td>136.88</td>\n      <td>7267.55</td>\n    </tr>\n    <tr>\n      <th>2</th>\n      <td>22789</td>\n      <td>android</td>\n      <td>SM-G930F</td>\n      <td>1710.08</td>\n      <td>136.88</td>\n      <td>7267.55</td>\n    </tr>\n    <tr>\n      <th>3</th>\n      <td>22790</td>\n      <td>android</td>\n      <td>D2303</td>\n      <td>94.46</td>\n      <td>35.17</td>\n      <td>519.12</td>\n    </tr>\n    <tr>\n      <th>4</th>\n      <td>22792</td>\n      <td>android</td>\n      <td>SM-G361F</td>\n      <td>71.59</td>\n      <td>79.26</td>\n      <td>1557.33</td>\n    </tr>\n    <tr>\n      <th>...</th>\n      <td>...</td>\n      <td>...</td>\n      <td>...</td>\n      <td>...</td>\n      <td>...</td>\n      <td>...</td>\n    </tr>\n    <tr>\n      <th>154</th>\n      <td>23043</td>\n      <td>android</td>\n      <td>SM-G900F</td>\n      <td>198.59</td>\n      <td>90.49</td>\n      <td>5191.12</td>\n    </tr>\n    <tr>\n      <th>155</th>\n      <td>23044</td>\n      <td>android</td>\n      <td>SM-G900F</td>\n      <td>198.59</td>\n      <td>90.49</td>\n      <td>3114.67</td>\n    </tr>\n    <tr>\n      <th>156</th>\n      <td>23046</td>\n      <td>android</td>\n      <td>Moto G (4)</td>\n      <td>106.65</td>\n      <td>82.13</td>\n      <td>5191.12</td>\n    </tr>\n    <tr>\n      <th>157</th>\n      <td>23049</td>\n      <td>android</td>\n      <td>SM-G900F</td>\n      <td>344.53</td>\n      <td>20.53</td>\n      <td>519.12</td>\n    </tr>\n    <tr>\n      <th>158</th>\n      <td>23053</td>\n      <td>android</td>\n      <td>Vodafone Smart ultra 6</td>\n      <td>42.75</td>\n      <td>46.83</td>\n      <td>5191.12</td>\n    </tr>\n  </tbody>\n</table>\n<p>159 rows × 6 columns</p>\n</div>"
     },
     "metadata": {},
     "execution_count": 94
    }
   ],
   "source": [
    "df4 = pd.merge(df1[[\"use_id\", \"platform\", \"device\"]], df2, on=\"use_id\")\n",
    "df4"
   ]
  },
  {
   "source": [
    "#Affichage des shape des dataframe ainsi que celle du résultat du merge"
   ],
   "cell_type": "markdown",
   "metadata": {}
  },
  {
   "cell_type": "code",
   "execution_count": 92,
   "metadata": {
    "tags": []
   },
   "outputs": [
    {
     "output_type": "stream",
     "name": "stdout",
     "text": "user_device dimension :  (272, 6)\nuser_usage dimension :  (240, 4)\n(159, 6)\n"
    }
   ],
   "source": [
    "print(\"user_device dimension : \", df1.shape)\n",
    "print(\"user_usage dimension : \", df2.shape)\n",
    "print(df4.shape)"
   ]
  },
  {
   "source": [
    "#Afficher via value_counts les use_id présent dans le nouveau dataset ainsi que ceux non présent"
   ],
   "cell_type": "markdown",
   "metadata": {}
  },
  {
   "cell_type": "code",
   "execution_count": 132,
   "metadata": {},
   "outputs": [
    {
     "output_type": "execute_result",
     "data": {
      "text/plain": "True     159\nFalse     81\nName: use_id, dtype: int64"
     },
     "metadata": {},
     "execution_count": 132
    }
   ],
   "source": [
    "df2[\"use_id\"].isin(df4[\"use_id\"]).value_counts()"
   ]
  },
  {
   "cell_type": "code",
   "execution_count": 182,
   "metadata": {},
   "outputs": [],
   "source": [
    "merge_left = pd.merge(df2, df1[[\"use_id\", \"platform\", \"device\"]], left_on=\"use_id\", right_on=\"use_id\", how=\"left\")"
   ]
  },
  {
   "cell_type": "code",
   "execution_count": 141,
   "metadata": {
    "tags": []
   },
   "outputs": [
    {
     "output_type": "stream",
     "name": "stdout",
     "text": "user_usage dimensions: (240, 4)\nresult dimensions: (240, 6)\n"
    }
   ],
   "source": [
    "print(\"user_usage dimensions:\", df2.shape)\n",
    "print(\"result dimensions:\", merge_left.shape)"
   ]
  },
  {
   "cell_type": "code",
   "execution_count": 142,
   "metadata": {},
   "outputs": [
    {
     "output_type": "execute_result",
     "data": {
      "text/plain": "   outgoing_mins_per_month  outgoing_sms_per_month  monthly_mb  use_id  \\\n0                    21.97                    4.82     1557.33   22787   \n1                  1710.08                  136.88     7267.55   22788   \n2                  1710.08                  136.88     7267.55   22789   \n3                    94.46                   35.17      519.12   22790   \n4                    71.59                   79.26     1557.33   22792   \n\n  platform    device  \n0  android  GT-I9505  \n1  android  SM-G930F  \n2  android  SM-G930F  \n3  android     D2303  \n4  android  SM-G361F  ",
      "text/html": "<div>\n<style scoped>\n    .dataframe tbody tr th:only-of-type {\n        vertical-align: middle;\n    }\n\n    .dataframe tbody tr th {\n        vertical-align: top;\n    }\n\n    .dataframe thead th {\n        text-align: right;\n    }\n</style>\n<table border=\"1\" class=\"dataframe\">\n  <thead>\n    <tr style=\"text-align: right;\">\n      <th></th>\n      <th>outgoing_mins_per_month</th>\n      <th>outgoing_sms_per_month</th>\n      <th>monthly_mb</th>\n      <th>use_id</th>\n      <th>platform</th>\n      <th>device</th>\n    </tr>\n  </thead>\n  <tbody>\n    <tr>\n      <th>0</th>\n      <td>21.97</td>\n      <td>4.82</td>\n      <td>1557.33</td>\n      <td>22787</td>\n      <td>android</td>\n      <td>GT-I9505</td>\n    </tr>\n    <tr>\n      <th>1</th>\n      <td>1710.08</td>\n      <td>136.88</td>\n      <td>7267.55</td>\n      <td>22788</td>\n      <td>android</td>\n      <td>SM-G930F</td>\n    </tr>\n    <tr>\n      <th>2</th>\n      <td>1710.08</td>\n      <td>136.88</td>\n      <td>7267.55</td>\n      <td>22789</td>\n      <td>android</td>\n      <td>SM-G930F</td>\n    </tr>\n    <tr>\n      <th>3</th>\n      <td>94.46</td>\n      <td>35.17</td>\n      <td>519.12</td>\n      <td>22790</td>\n      <td>android</td>\n      <td>D2303</td>\n    </tr>\n    <tr>\n      <th>4</th>\n      <td>71.59</td>\n      <td>79.26</td>\n      <td>1557.33</td>\n      <td>22792</td>\n      <td>android</td>\n      <td>SM-G361F</td>\n    </tr>\n  </tbody>\n</table>\n</div>"
     },
     "metadata": {},
     "execution_count": 142
    }
   ],
   "source": [
    "merge_left.head(5)"
   ]
  },
  {
   "source": [
    "merge_left.info()"
   ],
   "cell_type": "code",
   "metadata": {
    "tags": []
   },
   "execution_count": 184,
   "outputs": [
    {
     "output_type": "stream",
     "name": "stdout",
     "text": "<class 'pandas.core.frame.DataFrame'>\nInt64Index: 240 entries, 0 to 239\nData columns (total 6 columns):\n #   Column                   Non-Null Count  Dtype  \n---  ------                   --------------  -----  \n 0   outgoing_mins_per_month  240 non-null    float64\n 1   outgoing_sms_per_month   240 non-null    float64\n 2   monthly_mb               240 non-null    float64\n 3   use_id                   240 non-null    int64  \n 4   platform                 159 non-null    object \n 5   device                   159 non-null    object \ndtypes: float64(3), int64(1), object(2)\nmemory usage: 13.1+ KB\n"
    }
   ]
  },
  {
   "cell_type": "code",
   "execution_count": 65,
   "metadata": {},
   "outputs": [],
   "source": [
    "merge_right = pd.merge(df2, df1[[\"use_id\", \"platform\", \"device\"]], how=\"right\")"
   ]
  },
  {
   "cell_type": "code",
   "execution_count": 67,
   "metadata": {
    "tags": []
   },
   "outputs": [
    {
     "output_type": "stream",
     "name": "stdout",
     "text": "user_device dimensions: (272, 6)\nresult dimensions: (272, 6)\nThere are 113 missing values in the 'monthly_mb' column in the result.\nThere are 0 missing values in the 'platform' column in the result.\n"
    }
   ],
   "source": [
    "print(\"user_device dimensions:\", df1.shape)\n",
    "print(\"result dimensions:\", merge_right.shape)\n",
    "print(\"There are\", merge_right[\"monthly_mb\"].isna().sum(),\"missing values in the 'monthly_mb' column in the result.\")\n",
    "print(\"There are\", merge_right[\"platform\"].isna().sum(),\"missing values in the 'platform' column in the result.\")"
   ]
  },
  {
   "cell_type": "code",
   "execution_count": 5,
   "metadata": {},
   "outputs": [],
   "source": [
    "merge_outer = pd.merge(df2, df1[[\"use_id\", \"platform\", \"device\"]], how=\"outer\") "
   ]
  },
  {
   "cell_type": "code",
   "execution_count": 6,
   "metadata": {
    "tags": []
   },
   "outputs": [
    {
     "output_type": "stream",
     "name": "stdout",
     "text": "<class 'pandas.core.frame.DataFrame'>\nInt64Index: 353 entries, 0 to 352\nData columns (total 6 columns):\n #   Column                   Non-Null Count  Dtype  \n---  ------                   --------------  -----  \n 0   outgoing_mins_per_month  240 non-null    float64\n 1   outgoing_sms_per_month   240 non-null    float64\n 2   monthly_mb               240 non-null    float64\n 3   use_id                   353 non-null    int64  \n 4   platform                 272 non-null    object \n 5   device                   272 non-null    object \ndtypes: float64(3), int64(1), object(2)\nmemory usage: 19.3+ KB\n"
    }
   ],
   "source": [
    "merge_outer.info()"
   ]
  },
  {
   "cell_type": "code",
   "execution_count": 7,
   "metadata": {},
   "outputs": [
    {
     "output_type": "execute_result",
     "data": {
      "text/plain": "outgoing_mins_per_month    113\noutgoing_sms_per_month     113\nmonthly_mb                 113\nuse_id                       0\nplatform                    81\ndevice                      81\ndtype: int64"
     },
     "metadata": {},
     "execution_count": 7
    }
   ],
   "source": [
    "merge_outer.isna().sum()"
   ]
  },
  {
   "cell_type": "code",
   "execution_count": 8,
   "metadata": {},
   "outputs": [],
   "source": [
    "c = merge_outer[\"outgoing_mins_per_month\"]"
   ]
  },
  {
   "source": [
    "merge_outer.dropna()"
   ],
   "cell_type": "code",
   "metadata": {},
   "execution_count": 9,
   "outputs": [
    {
     "output_type": "execute_result",
     "data": {
      "text/plain": "     outgoing_mins_per_month  outgoing_sms_per_month  monthly_mb  use_id  \\\n0                      21.97                    4.82     1557.33   22787   \n1                    1710.08                  136.88     7267.55   22788   \n2                    1710.08                  136.88     7267.55   22789   \n3                      94.46                   35.17      519.12   22790   \n4                      71.59                   79.26     1557.33   22792   \n..                       ...                     ...         ...     ...   \n154                   198.59                   90.49     5191.12   23043   \n155                   198.59                   90.49     3114.67   23044   \n156                   106.65                   82.13     5191.12   23046   \n157                   344.53                   20.53      519.12   23049   \n158                    42.75                   46.83     5191.12   23053   \n\n    platform                  device  \n0    android                GT-I9505  \n1    android                SM-G930F  \n2    android                SM-G930F  \n3    android                   D2303  \n4    android                SM-G361F  \n..       ...                     ...  \n154  android                SM-G900F  \n155  android                SM-G900F  \n156  android              Moto G (4)  \n157  android                SM-G900F  \n158  android  Vodafone Smart ultra 6  \n\n[159 rows x 6 columns]",
      "text/html": "<div>\n<style scoped>\n    .dataframe tbody tr th:only-of-type {\n        vertical-align: middle;\n    }\n\n    .dataframe tbody tr th {\n        vertical-align: top;\n    }\n\n    .dataframe thead th {\n        text-align: right;\n    }\n</style>\n<table border=\"1\" class=\"dataframe\">\n  <thead>\n    <tr style=\"text-align: right;\">\n      <th></th>\n      <th>outgoing_mins_per_month</th>\n      <th>outgoing_sms_per_month</th>\n      <th>monthly_mb</th>\n      <th>use_id</th>\n      <th>platform</th>\n      <th>device</th>\n    </tr>\n  </thead>\n  <tbody>\n    <tr>\n      <th>0</th>\n      <td>21.97</td>\n      <td>4.82</td>\n      <td>1557.33</td>\n      <td>22787</td>\n      <td>android</td>\n      <td>GT-I9505</td>\n    </tr>\n    <tr>\n      <th>1</th>\n      <td>1710.08</td>\n      <td>136.88</td>\n      <td>7267.55</td>\n      <td>22788</td>\n      <td>android</td>\n      <td>SM-G930F</td>\n    </tr>\n    <tr>\n      <th>2</th>\n      <td>1710.08</td>\n      <td>136.88</td>\n      <td>7267.55</td>\n      <td>22789</td>\n      <td>android</td>\n      <td>SM-G930F</td>\n    </tr>\n    <tr>\n      <th>3</th>\n      <td>94.46</td>\n      <td>35.17</td>\n      <td>519.12</td>\n      <td>22790</td>\n      <td>android</td>\n      <td>D2303</td>\n    </tr>\n    <tr>\n      <th>4</th>\n      <td>71.59</td>\n      <td>79.26</td>\n      <td>1557.33</td>\n      <td>22792</td>\n      <td>android</td>\n      <td>SM-G361F</td>\n    </tr>\n    <tr>\n      <th>...</th>\n      <td>...</td>\n      <td>...</td>\n      <td>...</td>\n      <td>...</td>\n      <td>...</td>\n      <td>...</td>\n    </tr>\n    <tr>\n      <th>154</th>\n      <td>198.59</td>\n      <td>90.49</td>\n      <td>5191.12</td>\n      <td>23043</td>\n      <td>android</td>\n      <td>SM-G900F</td>\n    </tr>\n    <tr>\n      <th>155</th>\n      <td>198.59</td>\n      <td>90.49</td>\n      <td>3114.67</td>\n      <td>23044</td>\n      <td>android</td>\n      <td>SM-G900F</td>\n    </tr>\n    <tr>\n      <th>156</th>\n      <td>106.65</td>\n      <td>82.13</td>\n      <td>5191.12</td>\n      <td>23046</td>\n      <td>android</td>\n      <td>Moto G (4)</td>\n    </tr>\n    <tr>\n      <th>157</th>\n      <td>344.53</td>\n      <td>20.53</td>\n      <td>519.12</td>\n      <td>23049</td>\n      <td>android</td>\n      <td>SM-G900F</td>\n    </tr>\n    <tr>\n      <th>158</th>\n      <td>42.75</td>\n      <td>46.83</td>\n      <td>5191.12</td>\n      <td>23053</td>\n      <td>android</td>\n      <td>Vodafone Smart ultra 6</td>\n    </tr>\n  </tbody>\n</table>\n<p>159 rows × 6 columns</p>\n</div>"
     },
     "metadata": {},
     "execution_count": 9
    }
   ]
  },
  {
   "cell_type": "code",
   "execution_count": 10,
   "metadata": {},
   "outputs": [
    {
     "output_type": "execute_result",
     "data": {
      "text/plain": "     outgoing_mins_per_month  outgoing_sms_per_month  monthly_mb  use_id  \\\n0                     21.970                   4.820    1557.330   22787   \n1                   1710.080                 136.880    7267.550   22788   \n2                   1710.080                 136.880    7267.550   22789   \n3                     94.460                  35.170     519.120   22790   \n4                     71.590                  79.260    1557.330   22792   \n..                       ...                     ...         ...     ...   \n348                  189.705                  70.775    1797.975   23047   \n349                  189.705                  70.775    1797.975   23048   \n350                  189.705                  70.775    1797.975   23050   \n351                  189.705                  70.775    1797.975   23051   \n352                  189.705                  70.775    1797.975   23052   \n\n    platform         device  \n0    android       GT-I9505  \n1    android       SM-G930F  \n2    android       SM-G930F  \n3    android          D2303  \n4    android       SM-G361F  \n..       ...            ...  \n348      ios      iPhone7,1  \n349  android  ONEPLUS A3003  \n350      ios      iPhone7,2  \n351      ios      iPhone7,2  \n352      ios      iPhone8,4  \n\n[353 rows x 6 columns]",
      "text/html": "<div>\n<style scoped>\n    .dataframe tbody tr th:only-of-type {\n        vertical-align: middle;\n    }\n\n    .dataframe tbody tr th {\n        vertical-align: top;\n    }\n\n    .dataframe thead th {\n        text-align: right;\n    }\n</style>\n<table border=\"1\" class=\"dataframe\">\n  <thead>\n    <tr style=\"text-align: right;\">\n      <th></th>\n      <th>outgoing_mins_per_month</th>\n      <th>outgoing_sms_per_month</th>\n      <th>monthly_mb</th>\n      <th>use_id</th>\n      <th>platform</th>\n      <th>device</th>\n    </tr>\n  </thead>\n  <tbody>\n    <tr>\n      <th>0</th>\n      <td>21.970</td>\n      <td>4.820</td>\n      <td>1557.330</td>\n      <td>22787</td>\n      <td>android</td>\n      <td>GT-I9505</td>\n    </tr>\n    <tr>\n      <th>1</th>\n      <td>1710.080</td>\n      <td>136.880</td>\n      <td>7267.550</td>\n      <td>22788</td>\n      <td>android</td>\n      <td>SM-G930F</td>\n    </tr>\n    <tr>\n      <th>2</th>\n      <td>1710.080</td>\n      <td>136.880</td>\n      <td>7267.550</td>\n      <td>22789</td>\n      <td>android</td>\n      <td>SM-G930F</td>\n    </tr>\n    <tr>\n      <th>3</th>\n      <td>94.460</td>\n      <td>35.170</td>\n      <td>519.120</td>\n      <td>22790</td>\n      <td>android</td>\n      <td>D2303</td>\n    </tr>\n    <tr>\n      <th>4</th>\n      <td>71.590</td>\n      <td>79.260</td>\n      <td>1557.330</td>\n      <td>22792</td>\n      <td>android</td>\n      <td>SM-G361F</td>\n    </tr>\n    <tr>\n      <th>...</th>\n      <td>...</td>\n      <td>...</td>\n      <td>...</td>\n      <td>...</td>\n      <td>...</td>\n      <td>...</td>\n    </tr>\n    <tr>\n      <th>348</th>\n      <td>189.705</td>\n      <td>70.775</td>\n      <td>1797.975</td>\n      <td>23047</td>\n      <td>ios</td>\n      <td>iPhone7,1</td>\n    </tr>\n    <tr>\n      <th>349</th>\n      <td>189.705</td>\n      <td>70.775</td>\n      <td>1797.975</td>\n      <td>23048</td>\n      <td>android</td>\n      <td>ONEPLUS A3003</td>\n    </tr>\n    <tr>\n      <th>350</th>\n      <td>189.705</td>\n      <td>70.775</td>\n      <td>1797.975</td>\n      <td>23050</td>\n      <td>ios</td>\n      <td>iPhone7,2</td>\n    </tr>\n    <tr>\n      <th>351</th>\n      <td>189.705</td>\n      <td>70.775</td>\n      <td>1797.975</td>\n      <td>23051</td>\n      <td>ios</td>\n      <td>iPhone7,2</td>\n    </tr>\n    <tr>\n      <th>352</th>\n      <td>189.705</td>\n      <td>70.775</td>\n      <td>1797.975</td>\n      <td>23052</td>\n      <td>ios</td>\n      <td>iPhone8,4</td>\n    </tr>\n  </tbody>\n</table>\n<p>353 rows × 6 columns</p>\n</div>"
     },
     "metadata": {},
     "execution_count": 10
    }
   ],
   "source": [
    "merge_outer.fillna(value=merge_outer.median())"
   ]
  },
  {
   "cell_type": "code",
   "execution_count": 11,
   "metadata": {
    "tags": []
   },
   "outputs": [
    {
     "output_type": "stream",
     "name": "stdout",
     "text": "outgoing_mins_per_month : float64\noutgoing_sms_per_month : float64\nmonthly_mb : float64\n"
    }
   ],
   "source": [
    "d = merge_outer.copy()\n",
    "for col in d:\n",
    "    if d[col].dtypes != 'O' and col != \"use_id\":\n",
    "        print(col,\":\", d[col].dtypes)"
   ]
  },
  {
   "cell_type": "code",
   "execution_count": 12,
   "metadata": {
    "tags": []
   },
   "outputs": [
    {
     "output_type": "execute_result",
     "data": {
      "text/plain": "     outgoing_mins_per_month  outgoing_sms_per_month  monthly_mb  use_id  \\\n0                      21.97                    4.82     1557.33   22787   \n1                    1710.08                  136.88     7267.55   22788   \n2                    1710.08                  136.88     7267.55   22789   \n3                      94.46                   35.17      519.12   22790   \n4                      71.59                   79.26     1557.33   22792   \n..                       ...                     ...         ...     ...   \n348                      NaN                     NaN         NaN   23047   \n349                      NaN                     NaN         NaN   23048   \n350                      NaN                     NaN         NaN   23050   \n351                      NaN                     NaN         NaN   23051   \n352                      NaN                     NaN         NaN   23052   \n\n    platform         device  \n0    android       GT-I9505  \n1    android       SM-G930F  \n2    android       SM-G930F  \n3    android          D2303  \n4    android       SM-G361F  \n..       ...            ...  \n348      ios      iPhone7,1  \n349  android  ONEPLUS A3003  \n350      ios      iPhone7,2  \n351      ios      iPhone7,2  \n352      ios      iPhone8,4  \n\n[353 rows x 6 columns]",
      "text/html": "<div>\n<style scoped>\n    .dataframe tbody tr th:only-of-type {\n        vertical-align: middle;\n    }\n\n    .dataframe tbody tr th {\n        vertical-align: top;\n    }\n\n    .dataframe thead th {\n        text-align: right;\n    }\n</style>\n<table border=\"1\" class=\"dataframe\">\n  <thead>\n    <tr style=\"text-align: right;\">\n      <th></th>\n      <th>outgoing_mins_per_month</th>\n      <th>outgoing_sms_per_month</th>\n      <th>monthly_mb</th>\n      <th>use_id</th>\n      <th>platform</th>\n      <th>device</th>\n    </tr>\n  </thead>\n  <tbody>\n    <tr>\n      <th>0</th>\n      <td>21.97</td>\n      <td>4.82</td>\n      <td>1557.33</td>\n      <td>22787</td>\n      <td>android</td>\n      <td>GT-I9505</td>\n    </tr>\n    <tr>\n      <th>1</th>\n      <td>1710.08</td>\n      <td>136.88</td>\n      <td>7267.55</td>\n      <td>22788</td>\n      <td>android</td>\n      <td>SM-G930F</td>\n    </tr>\n    <tr>\n      <th>2</th>\n      <td>1710.08</td>\n      <td>136.88</td>\n      <td>7267.55</td>\n      <td>22789</td>\n      <td>android</td>\n      <td>SM-G930F</td>\n    </tr>\n    <tr>\n      <th>3</th>\n      <td>94.46</td>\n      <td>35.17</td>\n      <td>519.12</td>\n      <td>22790</td>\n      <td>android</td>\n      <td>D2303</td>\n    </tr>\n    <tr>\n      <th>4</th>\n      <td>71.59</td>\n      <td>79.26</td>\n      <td>1557.33</td>\n      <td>22792</td>\n      <td>android</td>\n      <td>SM-G361F</td>\n    </tr>\n    <tr>\n      <th>...</th>\n      <td>...</td>\n      <td>...</td>\n      <td>...</td>\n      <td>...</td>\n      <td>...</td>\n      <td>...</td>\n    </tr>\n    <tr>\n      <th>348</th>\n      <td>NaN</td>\n      <td>NaN</td>\n      <td>NaN</td>\n      <td>23047</td>\n      <td>ios</td>\n      <td>iPhone7,1</td>\n    </tr>\n    <tr>\n      <th>349</th>\n      <td>NaN</td>\n      <td>NaN</td>\n      <td>NaN</td>\n      <td>23048</td>\n      <td>android</td>\n      <td>ONEPLUS A3003</td>\n    </tr>\n    <tr>\n      <th>350</th>\n      <td>NaN</td>\n      <td>NaN</td>\n      <td>NaN</td>\n      <td>23050</td>\n      <td>ios</td>\n      <td>iPhone7,2</td>\n    </tr>\n    <tr>\n      <th>351</th>\n      <td>NaN</td>\n      <td>NaN</td>\n      <td>NaN</td>\n      <td>23051</td>\n      <td>ios</td>\n      <td>iPhone7,2</td>\n    </tr>\n    <tr>\n      <th>352</th>\n      <td>NaN</td>\n      <td>NaN</td>\n      <td>NaN</td>\n      <td>23052</td>\n      <td>ios</td>\n      <td>iPhone8,4</td>\n    </tr>\n  </tbody>\n</table>\n<p>353 rows × 6 columns</p>\n</div>"
     },
     "metadata": {},
     "execution_count": 12
    }
   ],
   "source": [
    "d = merge_outer.copy()\n",
    "for col in d:\n",
    "    if d[col].dtypes != 'O' and col != \"use_id\":\n",
    "        d[col] = d[col].fillna(value=d[col].median())\n",
    "\n",
    "merge_outer"
   ]
  },
  {
   "cell_type": "code",
   "execution_count": 13,
   "metadata": {},
   "outputs": [
    {
     "output_type": "execute_result",
     "data": {
      "text/plain": "     outgoing_mins_per_month  outgoing_sms_per_month  monthly_mb\n0                     21.970                   4.820    1557.330\n1                   1710.080                 136.880    7267.550\n2                   1710.080                 136.880    7267.550\n3                     94.460                  35.170     519.120\n4                     71.590                  79.260    1557.330\n..                       ...                     ...         ...\n348                  189.705                  70.775    1797.975\n349                  189.705                  70.775    1797.975\n350                  189.705                  70.775    1797.975\n351                  189.705                  70.775    1797.975\n352                  189.705                  70.775    1797.975\n\n[353 rows x 3 columns]",
      "text/html": "<div>\n<style scoped>\n    .dataframe tbody tr th:only-of-type {\n        vertical-align: middle;\n    }\n\n    .dataframe tbody tr th {\n        vertical-align: top;\n    }\n\n    .dataframe thead th {\n        text-align: right;\n    }\n</style>\n<table border=\"1\" class=\"dataframe\">\n  <thead>\n    <tr style=\"text-align: right;\">\n      <th></th>\n      <th>outgoing_mins_per_month</th>\n      <th>outgoing_sms_per_month</th>\n      <th>monthly_mb</th>\n    </tr>\n  </thead>\n  <tbody>\n    <tr>\n      <th>0</th>\n      <td>21.970</td>\n      <td>4.820</td>\n      <td>1557.330</td>\n    </tr>\n    <tr>\n      <th>1</th>\n      <td>1710.080</td>\n      <td>136.880</td>\n      <td>7267.550</td>\n    </tr>\n    <tr>\n      <th>2</th>\n      <td>1710.080</td>\n      <td>136.880</td>\n      <td>7267.550</td>\n    </tr>\n    <tr>\n      <th>3</th>\n      <td>94.460</td>\n      <td>35.170</td>\n      <td>519.120</td>\n    </tr>\n    <tr>\n      <th>4</th>\n      <td>71.590</td>\n      <td>79.260</td>\n      <td>1557.330</td>\n    </tr>\n    <tr>\n      <th>...</th>\n      <td>...</td>\n      <td>...</td>\n      <td>...</td>\n    </tr>\n    <tr>\n      <th>348</th>\n      <td>189.705</td>\n      <td>70.775</td>\n      <td>1797.975</td>\n    </tr>\n    <tr>\n      <th>349</th>\n      <td>189.705</td>\n      <td>70.775</td>\n      <td>1797.975</td>\n    </tr>\n    <tr>\n      <th>350</th>\n      <td>189.705</td>\n      <td>70.775</td>\n      <td>1797.975</td>\n    </tr>\n    <tr>\n      <th>351</th>\n      <td>189.705</td>\n      <td>70.775</td>\n      <td>1797.975</td>\n    </tr>\n    <tr>\n      <th>352</th>\n      <td>189.705</td>\n      <td>70.775</td>\n      <td>1797.975</td>\n    </tr>\n  </tbody>\n</table>\n<p>353 rows × 3 columns</p>\n</div>"
     },
     "metadata": {},
     "execution_count": 13
    }
   ],
   "source": [
    "d.select_dtypes(\"float64\")"
   ]
  },
  {
   "cell_type": "code",
   "execution_count": 14,
   "metadata": {},
   "outputs": [
    {
     "output_type": "execute_result",
     "data": {
      "text/plain": "(353, 6)"
     },
     "metadata": {},
     "execution_count": 14
    }
   ],
   "source": [
    "merge_outer.shape"
   ]
  },
  {
   "source": [
    "#Afficher les lignes 0,1,200,201,350,351"
   ],
   "cell_type": "markdown",
   "metadata": {}
  },
  {
   "cell_type": "code",
   "execution_count": 43,
   "metadata": {},
   "outputs": [
    {
     "output_type": "execute_result",
     "data": {
      "text/plain": "     outgoing_mins_per_month  outgoing_sms_per_month  monthly_mb  use_id  \\\n0                      21.97                    4.82     1557.33   22787   \n1                    1710.08                  136.88     7267.55   22788   \n200                    28.79                   29.42     3114.67   23988   \n201                   616.56                   99.85     5414.14   24006   \n350                      NaN                     NaN         NaN   23050   \n351                      NaN                     NaN         NaN   23051   \n\n    platform     device  \n0    android   GT-I9505  \n1    android   SM-G930F  \n200      NaN        NaN  \n201      NaN        NaN  \n350      ios  iPhone7,2  \n351      ios  iPhone7,2  ",
      "text/html": "<div>\n<style scoped>\n    .dataframe tbody tr th:only-of-type {\n        vertical-align: middle;\n    }\n\n    .dataframe tbody tr th {\n        vertical-align: top;\n    }\n\n    .dataframe thead th {\n        text-align: right;\n    }\n</style>\n<table border=\"1\" class=\"dataframe\">\n  <thead>\n    <tr style=\"text-align: right;\">\n      <th></th>\n      <th>outgoing_mins_per_month</th>\n      <th>outgoing_sms_per_month</th>\n      <th>monthly_mb</th>\n      <th>use_id</th>\n      <th>platform</th>\n      <th>device</th>\n    </tr>\n  </thead>\n  <tbody>\n    <tr>\n      <th>0</th>\n      <td>21.97</td>\n      <td>4.82</td>\n      <td>1557.33</td>\n      <td>22787</td>\n      <td>android</td>\n      <td>GT-I9505</td>\n    </tr>\n    <tr>\n      <th>1</th>\n      <td>1710.08</td>\n      <td>136.88</td>\n      <td>7267.55</td>\n      <td>22788</td>\n      <td>android</td>\n      <td>SM-G930F</td>\n    </tr>\n    <tr>\n      <th>200</th>\n      <td>28.79</td>\n      <td>29.42</td>\n      <td>3114.67</td>\n      <td>23988</td>\n      <td>NaN</td>\n      <td>NaN</td>\n    </tr>\n    <tr>\n      <th>201</th>\n      <td>616.56</td>\n      <td>99.85</td>\n      <td>5414.14</td>\n      <td>24006</td>\n      <td>NaN</td>\n      <td>NaN</td>\n    </tr>\n    <tr>\n      <th>350</th>\n      <td>NaN</td>\n      <td>NaN</td>\n      <td>NaN</td>\n      <td>23050</td>\n      <td>ios</td>\n      <td>iPhone7,2</td>\n    </tr>\n    <tr>\n      <th>351</th>\n      <td>NaN</td>\n      <td>NaN</td>\n      <td>NaN</td>\n      <td>23051</td>\n      <td>ios</td>\n      <td>iPhone7,2</td>\n    </tr>\n  </tbody>\n</table>\n</div>"
     },
     "metadata": {},
     "execution_count": 43
    }
   ],
   "source": [
    "merge_outer.loc[[0, 1, 200, 201, 350, 351]]"
   ]
  },
  {
   "cell_type": "code",
   "execution_count": 77,
   "metadata": {},
   "outputs": [],
   "source": [
    "merge_device_manufacturer = pd.merge(merge_outer, df3[[\"Manufacturer\", \"Model\"]], left_on=\"device\", right_on=\"Model\")"
   ]
  },
  {
   "source": [
    "#Afficher les device commencant par 'GT'¶"
   ],
   "cell_type": "markdown",
   "metadata": {}
  },
  {
   "cell_type": "code",
   "execution_count": 70,
   "metadata": {},
   "outputs": [
    {
     "output_type": "execute_result",
     "data": {
      "text/plain": "      Manufacturer          Marketing Name     device      Model\n1095       Bitmore                 GTAB700    GTAB700   NID_7010\n1096       Bitmore                 GTAB900    GTAB900       S952\n2402       Grundig                 GTB1050    GTB1050   GTB 1050\n2403       Grundig                  GTB850     GTB850    GTB 850\n2404       Grundig                 TC69CA2     GTB801    GTB 801\n...            ...                     ...        ...        ...\n10821      Samsung            Galaxy Y Pro  GT-B5510L  GT-B5510L\n10822      Samsung       Galaxy Y Pro Duos   GT-B5512   GT-B5512\n10823      Samsung       Galaxy Y Pro Duos  GT-B5512B  GT-B5512B\n10824      Samsung             Galaxy Y TV   GT-S5367   GT-S5367\n10979        Sharp  AQUOS SERIE mini SHV38        GTQ      SHV38\n\n[164 rows x 4 columns]",
      "text/html": "<div>\n<style scoped>\n    .dataframe tbody tr th:only-of-type {\n        vertical-align: middle;\n    }\n\n    .dataframe tbody tr th {\n        vertical-align: top;\n    }\n\n    .dataframe thead th {\n        text-align: right;\n    }\n</style>\n<table border=\"1\" class=\"dataframe\">\n  <thead>\n    <tr style=\"text-align: right;\">\n      <th></th>\n      <th>Manufacturer</th>\n      <th>Marketing Name</th>\n      <th>device</th>\n      <th>Model</th>\n    </tr>\n  </thead>\n  <tbody>\n    <tr>\n      <th>1095</th>\n      <td>Bitmore</td>\n      <td>GTAB700</td>\n      <td>GTAB700</td>\n      <td>NID_7010</td>\n    </tr>\n    <tr>\n      <th>1096</th>\n      <td>Bitmore</td>\n      <td>GTAB900</td>\n      <td>GTAB900</td>\n      <td>S952</td>\n    </tr>\n    <tr>\n      <th>2402</th>\n      <td>Grundig</td>\n      <td>GTB1050</td>\n      <td>GTB1050</td>\n      <td>GTB 1050</td>\n    </tr>\n    <tr>\n      <th>2403</th>\n      <td>Grundig</td>\n      <td>GTB850</td>\n      <td>GTB850</td>\n      <td>GTB 850</td>\n    </tr>\n    <tr>\n      <th>2404</th>\n      <td>Grundig</td>\n      <td>TC69CA2</td>\n      <td>GTB801</td>\n      <td>GTB 801</td>\n    </tr>\n    <tr>\n      <th>...</th>\n      <td>...</td>\n      <td>...</td>\n      <td>...</td>\n      <td>...</td>\n    </tr>\n    <tr>\n      <th>10821</th>\n      <td>Samsung</td>\n      <td>Galaxy Y Pro</td>\n      <td>GT-B5510L</td>\n      <td>GT-B5510L</td>\n    </tr>\n    <tr>\n      <th>10822</th>\n      <td>Samsung</td>\n      <td>Galaxy Y Pro Duos</td>\n      <td>GT-B5512</td>\n      <td>GT-B5512</td>\n    </tr>\n    <tr>\n      <th>10823</th>\n      <td>Samsung</td>\n      <td>Galaxy Y Pro Duos</td>\n      <td>GT-B5512B</td>\n      <td>GT-B5512B</td>\n    </tr>\n    <tr>\n      <th>10824</th>\n      <td>Samsung</td>\n      <td>Galaxy Y TV</td>\n      <td>GT-S5367</td>\n      <td>GT-S5367</td>\n    </tr>\n    <tr>\n      <th>10979</th>\n      <td>Sharp</td>\n      <td>AQUOS SERIE mini SHV38</td>\n      <td>GTQ</td>\n      <td>SHV38</td>\n    </tr>\n  </tbody>\n</table>\n<p>164 rows × 4 columns</p>\n</div>"
     },
     "metadata": {},
     "execution_count": 70
    }
   ],
   "source": [
    "df3[df3.evice.str.startswith('GT')]"
   ]
  },
  {
   "source": [
    "#Grouper vos données par manufacturer"
   ],
   "cell_type": "markdown",
   "metadata": {}
  },
  {
   "source": [
    "#Afficher le dataset des résultats"
   ],
   "cell_type": "markdown",
   "metadata": {}
  },
  {
   "cell_type": "code",
   "execution_count": 79,
   "metadata": {},
   "outputs": [
    {
     "output_type": "execute_result",
     "data": {
      "text/plain": "     outgoing_mins_per_month  outgoing_sms_per_month  monthly_mb  use_id  \\\n0                      21.97                    4.82     1557.33   22787   \n1                      69.80                   14.70    25955.55   22801   \n2                     249.26                  253.22     1557.33   22875   \n3                     249.26                  253.22     1557.33   22876   \n4                      83.46                  114.06     3114.67   22880   \n..                       ...                     ...         ...     ...   \n227                      NaN                     NaN         NaN   22786   \n228                      NaN                     NaN         NaN   22803   \n229                      NaN                     NaN         NaN   22803   \n230                      NaN                     NaN         NaN   22877   \n231                      NaN                     NaN         NaN   22877   \n\n    platform     device Manufacturer      Model  \n0    android   GT-I9505      Samsung   GT-I9505  \n1    android   GT-I9505      Samsung   GT-I9505  \n2    android   GT-I9505      Samsung   GT-I9505  \n3    android   GT-I9505      Samsung   GT-I9505  \n4    android   GT-I9505      Samsung   GT-I9505  \n..       ...        ...          ...        ...  \n227  android  ONE E1003      OnePlus  ONE E1003  \n228  android  ONE E1003      OnePlus  ONE E1003  \n229  android  ONE E1003      OnePlus  ONE E1003  \n230  android  ONE E1003      OnePlus  ONE E1003  \n231  android  ONE E1003      OnePlus  ONE E1003  \n\n[232 rows x 8 columns]",
      "text/html": "<div>\n<style scoped>\n    .dataframe tbody tr th:only-of-type {\n        vertical-align: middle;\n    }\n\n    .dataframe tbody tr th {\n        vertical-align: top;\n    }\n\n    .dataframe thead th {\n        text-align: right;\n    }\n</style>\n<table border=\"1\" class=\"dataframe\">\n  <thead>\n    <tr style=\"text-align: right;\">\n      <th></th>\n      <th>outgoing_mins_per_month</th>\n      <th>outgoing_sms_per_month</th>\n      <th>monthly_mb</th>\n      <th>use_id</th>\n      <th>platform</th>\n      <th>device</th>\n      <th>Manufacturer</th>\n      <th>Model</th>\n    </tr>\n  </thead>\n  <tbody>\n    <tr>\n      <th>0</th>\n      <td>21.97</td>\n      <td>4.82</td>\n      <td>1557.33</td>\n      <td>22787</td>\n      <td>android</td>\n      <td>GT-I9505</td>\n      <td>Samsung</td>\n      <td>GT-I9505</td>\n    </tr>\n    <tr>\n      <th>1</th>\n      <td>69.80</td>\n      <td>14.70</td>\n      <td>25955.55</td>\n      <td>22801</td>\n      <td>android</td>\n      <td>GT-I9505</td>\n      <td>Samsung</td>\n      <td>GT-I9505</td>\n    </tr>\n    <tr>\n      <th>2</th>\n      <td>249.26</td>\n      <td>253.22</td>\n      <td>1557.33</td>\n      <td>22875</td>\n      <td>android</td>\n      <td>GT-I9505</td>\n      <td>Samsung</td>\n      <td>GT-I9505</td>\n    </tr>\n    <tr>\n      <th>3</th>\n      <td>249.26</td>\n      <td>253.22</td>\n      <td>1557.33</td>\n      <td>22876</td>\n      <td>android</td>\n      <td>GT-I9505</td>\n      <td>Samsung</td>\n      <td>GT-I9505</td>\n    </tr>\n    <tr>\n      <th>4</th>\n      <td>83.46</td>\n      <td>114.06</td>\n      <td>3114.67</td>\n      <td>22880</td>\n      <td>android</td>\n      <td>GT-I9505</td>\n      <td>Samsung</td>\n      <td>GT-I9505</td>\n    </tr>\n    <tr>\n      <th>...</th>\n      <td>...</td>\n      <td>...</td>\n      <td>...</td>\n      <td>...</td>\n      <td>...</td>\n      <td>...</td>\n      <td>...</td>\n      <td>...</td>\n    </tr>\n    <tr>\n      <th>227</th>\n      <td>NaN</td>\n      <td>NaN</td>\n      <td>NaN</td>\n      <td>22786</td>\n      <td>android</td>\n      <td>ONE E1003</td>\n      <td>OnePlus</td>\n      <td>ONE E1003</td>\n    </tr>\n    <tr>\n      <th>228</th>\n      <td>NaN</td>\n      <td>NaN</td>\n      <td>NaN</td>\n      <td>22803</td>\n      <td>android</td>\n      <td>ONE E1003</td>\n      <td>OnePlus</td>\n      <td>ONE E1003</td>\n    </tr>\n    <tr>\n      <th>229</th>\n      <td>NaN</td>\n      <td>NaN</td>\n      <td>NaN</td>\n      <td>22803</td>\n      <td>android</td>\n      <td>ONE E1003</td>\n      <td>OnePlus</td>\n      <td>ONE E1003</td>\n    </tr>\n    <tr>\n      <th>230</th>\n      <td>NaN</td>\n      <td>NaN</td>\n      <td>NaN</td>\n      <td>22877</td>\n      <td>android</td>\n      <td>ONE E1003</td>\n      <td>OnePlus</td>\n      <td>ONE E1003</td>\n    </tr>\n    <tr>\n      <th>231</th>\n      <td>NaN</td>\n      <td>NaN</td>\n      <td>NaN</td>\n      <td>22877</td>\n      <td>android</td>\n      <td>ONE E1003</td>\n      <td>OnePlus</td>\n      <td>ONE E1003</td>\n    </tr>\n  </tbody>\n</table>\n<p>232 rows × 8 columns</p>\n</div>"
     },
     "metadata": {},
     "execution_count": 79
    }
   ],
   "source": [
    "merge_device_manufacturer"
   ]
  },
  {
   "cell_type": "code",
   "execution_count": 84,
   "metadata": {},
   "outputs": [
    {
     "output_type": "execute_result",
     "data": {
      "text/plain": "              use_id  outgoing_mins_per_month  outgoing_sms_per_month  \\\nManufacturer                                                            \nHTC               47               299.842955               93.059318   \nHuawei             6                81.526667                9.500000   \nLGE                3               111.530000               12.760000   \nLava               2                60.650000              261.900000   \nLenovo             2               215.920000               12.930000   \nMotorola          16                95.127500               65.666250   \nOnePlus           12               354.855000               48.330000   \nSamsung          126               191.010093               92.390463   \nSony              16               177.315625               40.176250   \nVodafone           1                42.750000               46.830000   \nZTE                1                42.750000               46.830000   \n\n                monthly_mb  \nManufacturer                \nHTC            5144.077955  \nHuawei         1561.226667  \nLGE            1557.330000  \nLava          12458.670000  \nLenovo         1557.330000  \nMotorola       3946.500000  \nOnePlus        6575.410000  \nSamsung        4017.318889  \nSony           3212.000625  \nVodafone       5191.120000  \nZTE            5191.120000  ",
      "text/html": "<div>\n<style scoped>\n    .dataframe tbody tr th:only-of-type {\n        vertical-align: middle;\n    }\n\n    .dataframe tbody tr th {\n        vertical-align: top;\n    }\n\n    .dataframe thead th {\n        text-align: right;\n    }\n</style>\n<table border=\"1\" class=\"dataframe\">\n  <thead>\n    <tr style=\"text-align: right;\">\n      <th></th>\n      <th>use_id</th>\n      <th>outgoing_mins_per_month</th>\n      <th>outgoing_sms_per_month</th>\n      <th>monthly_mb</th>\n    </tr>\n    <tr>\n      <th>Manufacturer</th>\n      <th></th>\n      <th></th>\n      <th></th>\n      <th></th>\n    </tr>\n  </thead>\n  <tbody>\n    <tr>\n      <th>HTC</th>\n      <td>47</td>\n      <td>299.842955</td>\n      <td>93.059318</td>\n      <td>5144.077955</td>\n    </tr>\n    <tr>\n      <th>Huawei</th>\n      <td>6</td>\n      <td>81.526667</td>\n      <td>9.500000</td>\n      <td>1561.226667</td>\n    </tr>\n    <tr>\n      <th>LGE</th>\n      <td>3</td>\n      <td>111.530000</td>\n      <td>12.760000</td>\n      <td>1557.330000</td>\n    </tr>\n    <tr>\n      <th>Lava</th>\n      <td>2</td>\n      <td>60.650000</td>\n      <td>261.900000</td>\n      <td>12458.670000</td>\n    </tr>\n    <tr>\n      <th>Lenovo</th>\n      <td>2</td>\n      <td>215.920000</td>\n      <td>12.930000</td>\n      <td>1557.330000</td>\n    </tr>\n    <tr>\n      <th>Motorola</th>\n      <td>16</td>\n      <td>95.127500</td>\n      <td>65.666250</td>\n      <td>3946.500000</td>\n    </tr>\n    <tr>\n      <th>OnePlus</th>\n      <td>12</td>\n      <td>354.855000</td>\n      <td>48.330000</td>\n      <td>6575.410000</td>\n    </tr>\n    <tr>\n      <th>Samsung</th>\n      <td>126</td>\n      <td>191.010093</td>\n      <td>92.390463</td>\n      <td>4017.318889</td>\n    </tr>\n    <tr>\n      <th>Sony</th>\n      <td>16</td>\n      <td>177.315625</td>\n      <td>40.176250</td>\n      <td>3212.000625</td>\n    </tr>\n    <tr>\n      <th>Vodafone</th>\n      <td>1</td>\n      <td>42.750000</td>\n      <td>46.830000</td>\n      <td>5191.120000</td>\n    </tr>\n    <tr>\n      <th>ZTE</th>\n      <td>1</td>\n      <td>42.750000</td>\n      <td>46.830000</td>\n      <td>5191.120000</td>\n    </tr>\n  </tbody>\n</table>\n</div>"
     },
     "metadata": {},
     "execution_count": 84
    }
   ],
   "source": [
    "merge_device_manufacturer.groupby(\"Manufacturer\").agg({'use_id' : 'count', 'outgoing_mins_per_month' : 'mean', 'outgoing_sms_per_month' : 'mean', 'monthly_mb' : 'mean'})"
   ]
  }
 ]
}